{
 "cells": [
  {
   "cell_type": "code",
   "execution_count": 6,
   "id": "8a4338c7",
   "metadata": {},
   "outputs": [],
   "source": [
    "# class working:\n",
    "def work1():\n",
    "    print(\" this is my work \")\n",
    "    print(\" pracices of ffunction \")\n",
    "        \n",
    "def work2():\n",
    "    print(\" this is my work2 \")\n",
    "    print(\" pracices \")\n"
   ]
  },
  {
   "cell_type": "code",
   "execution_count": 10,
   "id": "0f34db22",
   "metadata": {},
   "outputs": [
    {
     "name": "stdout",
     "output_type": "stream",
     "text": [
      " this is my work2 \n",
      " pracices \n"
     ]
    }
   ],
   "source": [
    "work2()"
   ]
  },
  {
   "cell_type": "code",
   "execution_count": 11,
   "id": "33de80f4",
   "metadata": {},
   "outputs": [
    {
     "name": "stdout",
     "output_type": "stream",
     "text": [
      " this is my work \n",
      " pracices of ffunction \n"
     ]
    }
   ],
   "source": [
    "work1()"
   ]
  },
  {
   "cell_type": "code",
   "execution_count": 32,
   "id": "23b4acbc",
   "metadata": {},
   "outputs": [],
   "source": [
    "# by using class \n",
    "class car:\n",
    "    def __init__(self,name,color,year):\n",
    "        self.name = name\n",
    "        self.color= color\n",
    "        self.year= year\n",
    "        \n",
    "    def show(self):\n",
    "        print(\" the car name is \",self.name)\n",
    "        print(\"the color is \",self.color)\n",
    "        \n",
    "    def model(self):\n",
    "        print(\" the model of car is \",self.name)\n",
    "        \n",
    "    def Year(self):\n",
    "        print(\"the year of launch\",self.year)\n",
    "\n",
    "\n"
   ]
  },
  {
   "cell_type": "code",
   "execution_count": 40,
   "id": "c5f8bc4c",
   "metadata": {},
   "outputs": [
    {
     "data": {
      "text/plain": [
       "<function list.count(value, /)>"
      ]
     },
     "execution_count": 40,
     "metadata": {},
     "output_type": "execute_result"
    }
   ],
   "source": [
    "l = list()"
   ]
  },
  {
   "cell_type": "code",
   "execution_count": 43,
   "id": "dcf5a92c",
   "metadata": {},
   "outputs": [
    {
     "name": "stdout",
     "output_type": "stream",
     "text": [
      " the car name is  bmw\n",
      "the color is  blue\n",
      " the model of car is  bmw\n",
      "<class '__main__.car'>\n",
      "bmw\n"
     ]
    }
   ],
   "source": [
    "s1=car(\"bmw\",\"blue\",1236)\n",
    "s1.show()\n",
    "s1.model()\n",
    "print(type (s1))\n",
    "print(s1.name)"
   ]
  },
  {
   "cell_type": "code",
   "execution_count": 47,
   "id": "0195e91f",
   "metadata": {},
   "outputs": [
    {
     "name": "stdout",
     "output_type": "stream",
     "text": [
      "the year of launch 4567\n",
      " the model of car is  times\n"
     ]
    }
   ],
   "source": [
    "s3=car(\"times\",\"red\",4567)\n",
    "s3.Year()\n",
    "s3.model()"
   ]
  },
  {
   "cell_type": "code",
   "execution_count": 48,
   "id": "0aff3caf",
   "metadata": {},
   "outputs": [
    {
     "name": "stdout",
     "output_type": "stream",
     "text": [
      " the model of car is  bmw\n"
     ]
    }
   ],
   "source": [
    "# this is one type of argumemt we are pass example(toyota\",\"yellow\",4565) there are three parameter .when ever we have to call the f\\n\n",
    "# the function of class that again and agai we we change the name od obeject\n",
    "\n",
    "s2=car(\"toyota\",\"yellow\",4565)\n",
    "s1.model()"
   ]
  },
  {
   "cell_type": "code",
   "execution_count": 49,
   "id": "22538b88",
   "metadata": {},
   "outputs": [
    {
     "name": "stdout",
     "output_type": "stream",
     "text": [
      " the model of car is  TATA\n"
     ]
    }
   ],
   "source": [
    "sirf4=car(\"TATA\",\"gery\",1976)\n",
    "sirf4.model()"
   ]
  },
  {
   "cell_type": "code",
   "execution_count": 24,
   "id": "2f514d30",
   "metadata": {},
   "outputs": [],
   "source": [
    "class Car:\n",
    "    def __init__(self, make, model, year, color):\n",
    "        self.make = make\n",
    "        self.model = model\n",
    "        self.year = year\n",
    "        self.color = color\n",
    "        self.is_running = False\n",
    "\n",
    "    def start(self):\n",
    "        if not self.is_running:\n",
    "            print(f\"The {self.color} {self.year} {self.make} {self.model} is starting.\")\n",
    "            self.is_running = True\n",
    "        else:\n",
    "            print(\"The car is already running.\")\n",
    "\n",
    "    def stop(self):\n",
    "        if self.is_running:\n",
    "            print(f\"The {self.color} {self.year} {self.make} {self.model} is stopping.\")\n",
    "            self.is_running = False\n",
    "        else:\n",
    "            print(\"The car is already stopped.\")\n",
    "\n",
    "    def honk(self):\n",
    "        print(\"Beep beep!\")\n",
    "\n",
    "\n",
    "\n"
   ]
  },
  {
   "cell_type": "code",
   "execution_count": 25,
   "id": "db515840",
   "metadata": {},
   "outputs": [
    {
     "name": "stdout",
     "output_type": "stream",
     "text": [
      "My car is a blue 2022 Toyota Camry.\n",
      "The blue 2022 Toyota Camry is starting.\n",
      "Beep beep!\n",
      "The blue 2022 Toyota Camry is stopping.\n"
     ]
    }
   ],
   "source": [
    "# Example usage:\n",
    "my_car = Car(make=\"Toyota\", model=\"Camry\", year=2022, color=\"blue\")\n",
    "\n",
    "# Accessing attributes\n",
    "print(f\"My car is a {my_car.color} {my_car.year} {my_car.make} {my_car.model}.\")\n",
    "\n",
    "# Starting the car\n",
    "my_car.start()\n",
    "\n",
    "# Honking the horn\n",
    "my_car.honk()\n",
    "\n",
    "# Stopping the car\n",
    "my_car.stop()"
   ]
  },
  {
   "cell_type": "code",
   "execution_count": null,
   "id": "3c79fd31",
   "metadata": {},
   "outputs": [],
   "source": []
  }
 ],
 "metadata": {
  "kernelspec": {
   "display_name": "Python 3 (ipykernel)",
   "language": "python",
   "name": "python3"
  },
  "language_info": {
   "codemirror_mode": {
    "name": "ipython",
    "version": 3
   },
   "file_extension": ".py",
   "mimetype": "text/x-python",
   "name": "python",
   "nbconvert_exporter": "python",
   "pygments_lexer": "ipython3",
   "version": "3.11.5"
  }
 },
 "nbformat": 4,
 "nbformat_minor": 5
}
