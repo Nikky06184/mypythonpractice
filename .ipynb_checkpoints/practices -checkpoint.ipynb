{
 "cells": [
  {
   "cell_type": "code",
   "execution_count": 1,
   "id": "7c82ea54",
   "metadata": {},
   "outputs": [
    {
     "name": "stdout",
     "output_type": "stream",
     "text": [
      " the word is odd in string : hello\n",
      " the word is odd in string : world\n"
     ]
    }
   ],
   "source": [
    "#  to find the odd words from given string\n",
    "s1 = \" hello world is it true\"\n",
    "s2 = s1.split()\n",
    "for i in s2:\n",
    "    if len(i)%2==1:\n",
    "        print(\" the word is odd in string :\", i)"
   ]
  },
  {
   "cell_type": "code",
   "execution_count": 8,
   "id": "dc2819c7",
   "metadata": {},
   "outputs": [
    {
     "name": "stdout",
     "output_type": "stream",
     "text": [
      " the replacing words are   this is 4ur w4rld\n"
     ]
    }
   ],
   "source": [
    "#  to remove the letter from given string\n",
    "from collections import Counter\n",
    "s1 = \" this is our world\"\n",
    "print(\" the replacing words are \",s1. replace(\"o\",\"4\"))"
   ]
  },
  {
   "cell_type": "code",
   "execution_count": 16,
   "id": "c0034a8c",
   "metadata": {},
   "outputs": [
    {
     "name": "stdout",
     "output_type": "stream",
     "text": [
      "2\n"
     ]
    }
   ],
   "source": [
    "#  count the words which we want to know how amany time it comes inn string\n",
    "\n",
    "from collections import Counter\n",
    "\n",
    "s1= \" this is ok \"\n",
    "s2 = s1.count(\"is\")\n",
    "print(s2)\n"
   ]
  },
  {
   "cell_type": "code",
   "execution_count": 20,
   "id": "7b505c12",
   "metadata": {},
   "outputs": [
    {
     "name": "stdout",
     "output_type": "stream",
     "text": [
      "not plindrom\n"
     ]
    }
   ],
   "source": [
    "# to know the string is plindrom \n",
    "\n",
    "s1 = \" this is awsome\"\n",
    "# s2= s1.split()\n",
    "s2 = s1[-1::-1]\n",
    "\n",
    "if s1 == s2:\n",
    "    print(\" this is plindrome\")\n",
    "else:\n",
    "    \n",
    "    print(\"not plindrom\")\n",
    "\n",
    "\n"
   ]
  },
  {
   "cell_type": "code",
   "execution_count": 24,
   "id": "d2b1bf0d",
   "metadata": {},
   "outputs": [
    {
     "name": "stdout",
     "output_type": "stream",
     "text": [
      " the reverse is same\n"
     ]
    }
   ],
   "source": [
    "#  to check the revers is same or not string \n",
    "\n",
    "s1 = \"madam\"\n",
    "s2 = s1[-1::-1]\n",
    "if s1==s2:\n",
    "    print(\" the reverse is same\")\n",
    "else :\n",
    "    print ('th revers is not same ')"
   ]
  },
  {
   "cell_type": "code",
   "execution_count": 44,
   "id": "8b5cc1a9",
   "metadata": {},
   "outputs": [
    {
     "ename": "TypeError",
     "evalue": "'int' object is not callable",
     "output_type": "error",
     "traceback": [
      "\u001b[1;31m---------------------------------------------------------------------------\u001b[0m",
      "\u001b[1;31mTypeError\u001b[0m                                 Traceback (most recent call last)",
      "Cell \u001b[1;32mIn[44], line 6\u001b[0m\n\u001b[0;32m      4\u001b[0m \u001b[38;5;66;03m# len(s1)\u001b[39;00m\n\u001b[0;32m      5\u001b[0m s2 \u001b[38;5;241m=\u001b[39m Counter (s1\u001b[38;5;241m.\u001b[39msplit())\n\u001b[1;32m----> 6\u001b[0m \u001b[38;5;28mprint\u001b[39m(\u001b[38;5;124m\"\u001b[39m\u001b[38;5;124mthis is in dictonary foem count \u001b[39m\u001b[38;5;124m\"\u001b[39m,\u001b[38;5;28mstr\u001b[39m(\u001b[38;5;28mdict\u001b[39m(s2)))\n",
      "\u001b[1;31mTypeError\u001b[0m: 'int' object is not callable"
     ]
    }
   ],
   "source": [
    "#  to count by dictinoary \n",
    "from collections import Counter\n",
    "s1 = ' this is done this is ok'\n",
    "# len(s1)\n",
    "s2 = Counter (s1.split())\n",
    "print(\"this is in dictonary foem count \",str(dict(s2)))\n",
    "\n",
    "# s2 = Counter (s1.split())\n",
    "# print(\"this is length\", str(dict(s2)))\n"
   ]
  },
  {
   "cell_type": "code",
   "execution_count": 46,
   "id": "c4c519f0",
   "metadata": {},
   "outputs": [
    {
     "ename": "TypeError",
     "evalue": "'int' object is not callable",
     "output_type": "error",
     "traceback": [
      "\u001b[1;31m---------------------------------------------------------------------------\u001b[0m",
      "\u001b[1;31mTypeError\u001b[0m                                 Traceback (most recent call last)",
      "Cell \u001b[1;32mIn[46], line 7\u001b[0m\n\u001b[0;32m      4\u001b[0m \u001b[38;5;66;03m# len(s1)\u001b[39;00m\n\u001b[0;32m      5\u001b[0m \u001b[38;5;66;03m# another way\u001b[39;00m\n\u001b[0;32m      6\u001b[0m s2 \u001b[38;5;241m=\u001b[39m Counter (s1\u001b[38;5;241m.\u001b[39msplit())\n\u001b[1;32m----> 7\u001b[0m \u001b[38;5;28mprint\u001b[39m(\u001b[38;5;124m\"\u001b[39m\u001b[38;5;124mthis is length\u001b[39m\u001b[38;5;124m\"\u001b[39m, \u001b[38;5;28mstr\u001b[39m(\u001b[38;5;28mdict\u001b[39m(s2)))\n",
      "\u001b[1;31mTypeError\u001b[0m: 'int' object is not callable"
     ]
    }
   ],
   "source": [
    "from collections import Counter\n",
    "\n",
    "s1 = \" this is what i saw swa  there \"\n",
    "# len(s1)\n",
    "# another way\n",
    "s2 = Counter (s1.split())\n",
    "print(\"this is length\", str(dict(s2)))\n",
    "# Counter(s2)"
   ]
  },
  {
   "cell_type": "code",
   "execution_count": 51,
   "id": "147015e2",
   "metadata": {},
   "outputs": [
    {
     "name": "stdout",
     "output_type": "stream",
     "text": [
      " rykgj    hgjl/,;l;l\n"
     ]
    }
   ],
   "source": [
    "# adding two string \n",
    "s1=\" rykgj\"\n",
    "s2= \"hgjl/,;l;l\"\n",
    "\n",
    "s3=    s1+\"    \"+      s2\n",
    "print(s3)"
   ]
  },
  {
   "cell_type": "code",
   "execution_count": 56,
   "id": "3c834540",
   "metadata": {},
   "outputs": [
    {
     "name": "stdout",
     "output_type": "stream",
     "text": [
      "gf\n",
      "h\n",
      "ghk,k\n",
      "j\n"
     ]
    }
   ],
   "source": [
    "s1 = 'gfjkhljlkkll,kghk'\n",
    "print(s1[:2])\n",
    "print(s1[-2])\n",
    "print(s1[::4])\n",
    "print(s1[2])\n"
   ]
  },
  {
   "cell_type": "code",
   "execution_count": 71,
   "id": "5d76bc53",
   "metadata": {},
   "outputs": [
    {
     "name": "stdout",
     "output_type": "stream",
     "text": [
      "[17]\n",
      "[17, 9]\n",
      "[17, 9, 1]\n"
     ]
    }
   ],
   "source": [
    "# list adding \n",
    "\n",
    "l1 = [9,0,1]\n",
    "l2 = [8,9,0]\n",
    "l3=[]\n",
    "\n",
    "for i in  range (len(l1)):\n",
    "    l3.append(l1[i]+l2[i])\n",
    "    print(l3)"
   ]
  },
  {
   "cell_type": "code",
   "execution_count": 75,
   "id": "20c8fbda",
   "metadata": {},
   "outputs": [
    {
     "ename": "IndexError",
     "evalue": "list index out of range",
     "output_type": "error",
     "traceback": [
      "\u001b[1;31m---------------------------------------------------------------------------\u001b[0m",
      "\u001b[1;31mIndexError\u001b[0m                                Traceback (most recent call last)",
      "Cell \u001b[1;32mIn[75], line 9\u001b[0m\n\u001b[0;32m      7\u001b[0m         \u001b[38;5;28mprint\u001b[39m()\n\u001b[0;32m      8\u001b[0m \u001b[38;5;28;01melse\u001b[39;00m:\n\u001b[1;32m----> 9\u001b[0m     \u001b[38;5;28mprint\u001b[39m(l3\u001b[38;5;241m.\u001b[39mappend(l1[i]\u001b[38;5;241m+\u001b[39ml2[i]))\n",
      "\u001b[1;31mIndexError\u001b[0m: list index out of range"
     ]
    }
   ],
   "source": [
    "\n",
    "l1 = [9,0,1,9]\n",
    "l2 = [8,9,0,8]\n",
    "l3=[]\n",
    "for  i in l1:\n",
    "    if i not in l1:\n",
    "        print(l3.append(l1[i]+l2[i]))\n",
    "        print()\n",
    "else:\n",
    "    print(l3.append(l1[i]+l2[i]))\n",
    "    "
   ]
  },
  {
   "cell_type": "code",
   "execution_count": 112,
   "id": "afec7f32",
   "metadata": {},
   "outputs": [
    {
     "ename": "TypeError",
     "evalue": "'set' object is not subscriptable",
     "output_type": "error",
     "traceback": [
      "\u001b[1;31m---------------------------------------------------------------------------\u001b[0m",
      "\u001b[1;31mTypeError\u001b[0m                                 Traceback (most recent call last)",
      "Cell \u001b[1;32mIn[112], line 8\u001b[0m\n\u001b[0;32m      6\u001b[0m \u001b[38;5;28;01mfor\u001b[39;00m i \u001b[38;5;129;01min\u001b[39;00m \u001b[38;5;28mrange\u001b[39m (\u001b[38;5;28mlen\u001b[39m(l1)):\n\u001b[0;32m      7\u001b[0m     \u001b[38;5;28;01mfor\u001b[39;00m j \u001b[38;5;129;01min\u001b[39;00m \u001b[38;5;28mrange\u001b[39m (i\u001b[38;5;241m+\u001b[39m\u001b[38;5;241m1\u001b[39m,\u001b[38;5;28mlen\u001b[39m(l1)):\n\u001b[1;32m----> 8\u001b[0m         \u001b[38;5;28;01mif\u001b[39;00m (l1[i]\u001b[38;5;241m>\u001b[39ml2[j]):\n\u001b[0;32m      9\u001b[0m             l1[i],l2[j]\u001b[38;5;241m=\u001b[39ml1[j],l1[i]\n\u001b[0;32m     10\u001b[0m             \u001b[38;5;28mprint\u001b[39m(l1)\n",
      "\u001b[1;31mTypeError\u001b[0m: 'set' object is not subscriptable"
     ]
    }
   ],
   "source": [
    "#  sort \n",
    "l1= [3,8,2,1,0]\n",
    "# l1.sort()\n",
    "# print(l1)\n",
    "\n",
    "for i in range (len(l1)):\n",
    "    for j in range (i+1,len(l1)):\n",
    "        if (l1[i]>l2[j]):\n",
    "            l1[i],l2[j]=l1[j],l1[i]\n",
    "            print(l1)"
   ]
  },
  {
   "cell_type": "code",
   "execution_count": 102,
   "id": "268b0aac",
   "metadata": {},
   "outputs": [
    {
     "name": "stdout",
     "output_type": "stream",
     "text": [
      "{0, 9, 2, 1}\n"
     ]
    }
   ],
   "source": [
    "# remobving duplicate \n",
    "\n",
    "l1 = [9,0,0,1,2,1]\n",
    "l2 = set(l1)\n",
    "print(l2)\n",
    "# print(l1)"
   ]
  },
  {
   "cell_type": "code",
   "execution_count": 103,
   "id": "10b5e325",
   "metadata": {},
   "outputs": [
    {
     "name": "stdout",
     "output_type": "stream",
     "text": [
      "1 \n",
      "2 2 \n",
      "3 3 3 \n",
      "4 4 4 4 \n"
     ]
    }
   ],
   "source": [
    "#  patten \n",
    "\n",
    "for i in range (1,5):\n",
    "    for j in range (1,i+1):\n",
    "        print(i, end = \" \")\n",
    "    print()"
   ]
  },
  {
   "cell_type": "code",
   "execution_count": 105,
   "id": "a6116790",
   "metadata": {},
   "outputs": [
    {
     "name": "stdout",
     "output_type": "stream",
     "text": [
      "1 \n",
      "1 2 \n",
      "1 2 3 \n",
      "1 2 3 4 \n"
     ]
    }
   ],
   "source": [
    "for i in range (1,5):\n",
    "    for j in range (1,i+1):\n",
    "        \n",
    "        print(j , end =\" \")\n",
    "    print()"
   ]
  },
  {
   "cell_type": "code",
   "execution_count": 1,
   "id": "a6ac5da8",
   "metadata": {},
   "outputs": [
    {
     "name": "stdout",
     "output_type": "stream",
     "text": [
      "dict_values([7, 2, 4])\n",
      "dict_values([7, 2, 4])\n",
      "dict_values([7, 2, 4])\n"
     ]
    }
   ],
   "source": [
    "d= {\"l\":7,\"o\":2,\"t\":4}\n",
    "for k,v in d.items():\n",
    "    print(d.values())\n",
    "        "
   ]
  },
  {
   "cell_type": "code",
   "execution_count": 5,
   "id": "237036df",
   "metadata": {},
   "outputs": [
    {
     "name": "stdout",
     "output_type": "stream",
     "text": [
      "the even words :  this\n",
      "the even words :  good\n",
      "the even words :  if\n",
      "the even words :  please\n",
      "the even words :  it\n"
     ]
    }
   ],
   "source": [
    "# 9/2/2024\n",
    "# even string\n",
    "\n",
    "s1=\"this all good if not please connect it again \"\n",
    "s2 = s1.split()\n",
    "for i in s2:\n",
    "    if len(i)%2==0:\n",
    "        print(\"the even words : \", i)\n"
   ]
  },
  {
   "cell_type": "code",
   "execution_count": 10,
   "id": "4c4dc8e8",
   "metadata": {},
   "outputs": [
    {
     "name": "stdout",
     "output_type": "stream",
     "text": [
      "3\n"
     ]
    }
   ],
   "source": [
    "from collections import Counter\n",
    "\n",
    "s1= \" this is ok ok and again ok \"\n",
    "s2 = s1.count(\"ok\")\n",
    "print(s2)\n"
   ]
  },
  {
   "cell_type": "code",
   "execution_count": 12,
   "id": "a939acea",
   "metadata": {},
   "outputs": [
    {
     "name": "stdout",
     "output_type": "stream",
     "text": [
      " not  plindrom\n"
     ]
    }
   ],
   "source": [
    "#  planderom \n",
    "a = \" this is not done hello world\"\n",
    "b=a[-1::-1]\n",
    "if a==b:\n",
    "    print(\" plindrom\")\n",
    "else:\n",
    "    print(\" not  plindrom\")"
   ]
  },
  {
   "cell_type": "code",
   "execution_count": 14,
   "id": "6fb3fe15",
   "metadata": {},
   "outputs": [
    {
     "name": "stdout",
     "output_type": "stream",
     "text": [
      " excu&&&& me plea&&e\n"
     ]
    }
   ],
   "source": [
    "#  replacing \n",
    "\n",
    "s1= ' excuss me please'\n",
    "s2 = s1.replace(\"s\", \"&&\")\n",
    "print(s2)"
   ]
  },
  {
   "cell_type": "code",
   "execution_count": 21,
   "id": "5aaf585a",
   "metadata": {},
   "outputs": [
    {
     "name": "stdout",
     "output_type": "stream",
     "text": [
      "hffhhffnffdfhfjkdsfbfb\"kdss\n"
     ]
    }
   ],
   "source": [
    "#  removing this gappes \n",
    "s1 = 'hffhhffnffdfhf jkdsfbfb     \" kdss '\n",
    "s2= s1.replace(\" \", \"\")\n",
    "print(s2)"
   ]
  },
  {
   "cell_type": "code",
   "execution_count": 13,
   "id": "1be2ec0e",
   "metadata": {},
   "outputs": [
    {
     "name": "stdout",
     "output_type": "stream",
     "text": [
      " it is not same \n"
     ]
    }
   ],
   "source": [
    "a = \" hike is frist app to talk \"\n",
    "b = a[::-1]\n",
    "if a==b:\n",
    "    print (\" it is same reverse\")\n",
    "else:\n",
    "    print(\" it is not same \")"
   ]
  },
  {
   "cell_type": "code",
   "execution_count": 65,
   "id": "d6995cb9",
   "metadata": {},
   "outputs": [
    {
     "name": "stdout",
     "output_type": "stream",
     "text": [
      " present in s1\n"
     ]
    }
   ],
   "source": [
    "s1 = \" this is a cat\"\n",
    "if 't' not in s1:\n",
    "    print(\" not present \")\n",
    "else:\n",
    "    print(\" present in s1\")"
   ]
  },
  {
   "cell_type": "code",
   "execution_count": 77,
   "id": "6ce0dee2",
   "metadata": {},
   "outputs": [
    {
     "name": "stdout",
     "output_type": "stream",
     "text": [
      " the remark of it A\n",
      " the prize will be  Gold Medal\n",
      "student name is  Tanusha\n",
      "student roll is  34\n"
     ]
    }
   ],
   "source": [
    "class school:\n",
    "    def __init__(self,stu,roll,Remark,prize):\n",
    "        self.stu=stu\n",
    "        self.roll=roll\n",
    "        self.Remark=Remark\n",
    "        self.prize=prize\n",
    "    def name(self):\n",
    "        print(\"student name is \",self.stu)\n",
    "        print(\"student roll is \", self.roll)\n",
    "    def res(self):\n",
    "        print(\" the remark of it\",self.Remark)\n",
    "        print(\" the prize will be \",self.prize)\n",
    "s1=school(\"Pallavi\", 4,\"A\",\"Gold Medal\")\n",
    "s1.res()\n",
    "\n",
    "s2=school(\"Tanusha\", 34,\"B\",\"seliver Medal\")\n",
    "s2.name()"
   ]
  },
  {
   "cell_type": "code",
   "execution_count": 78,
   "id": "ac7491e4",
   "metadata": {},
   "outputs": [
    {
     "ename": "NameError",
     "evalue": "name 'c' is not defined",
     "output_type": "error",
     "traceback": [
      "\u001b[1;31m---------------------------------------------------------------------------\u001b[0m",
      "\u001b[1;31mNameError\u001b[0m                                 Traceback (most recent call last)",
      "Cell \u001b[1;32mIn[78], line 6\u001b[0m\n\u001b[0;32m      4\u001b[0m     c\u001b[38;5;241m=\u001b[39ma\u001b[38;5;241m+\u001b[39mb\n\u001b[0;32m      5\u001b[0m     \u001b[38;5;28mprint\u001b[39m(c)\n\u001b[1;32m----> 6\u001b[0m addition(c)\n",
      "\u001b[1;31mNameError\u001b[0m: name 'c' is not defined"
     ]
    }
   ],
   "source": [
    "a=10\n",
    "def addition(c):\n",
    "    b=3\n",
    "    c=a+b\n",
    "    print(c)\n",
    "  "
   ]
  },
  {
   "cell_type": "code",
   "execution_count": 80,
   "id": "ac5fb3ce",
   "metadata": {},
   "outputs": [
    {
     "ename": "TypeError",
     "evalue": "addition() takes 0 positional arguments but 1 was given",
     "output_type": "error",
     "traceback": [
      "\u001b[1;31m---------------------------------------------------------------------------\u001b[0m",
      "\u001b[1;31mTypeError\u001b[0m                                 Traceback (most recent call last)",
      "Cell \u001b[1;32mIn[80], line 1\u001b[0m\n\u001b[1;32m----> 1\u001b[0m addition(\u001b[38;5;241m2\u001b[39m)\n",
      "\u001b[1;31mTypeError\u001b[0m: addition() takes 0 positional arguments but 1 was given"
     ]
    }
   ],
   "source": [
    "addition(2)"
   ]
  },
  {
   "cell_type": "code",
   "execution_count": 43,
   "id": "773de629",
   "metadata": {},
   "outputs": [
    {
     "name": "stdout",
     "output_type": "stream",
     "text": [
      "this9ok88okitsi31\n",
      " this isss9 88 31 \n"
     ]
    }
   ],
   "source": [
    "#  using of t /n/ \n",
    "# s1 = 'gtbjflhfijkrhrjjp\\tjroing\\njkhghehg'\n",
    "# print(s1)\n",
    "t1=88\n",
    "r1=9\n",
    "u=31\n",
    "s1 = 'this{0}ok{1}okitsi{2}'\n",
    "s2 = \" this isss{} {} {} \"\n",
    "\n",
    "print(s1.format(r1,t1,u))\n",
    "print(s2 .format (r1,t1, u))\n",
    "    "
   ]
  },
  {
   "cell_type": "code",
   "execution_count": 53,
   "id": "c0a0eff6",
   "metadata": {},
   "outputs": [
    {
     "name": "stdout",
     "output_type": "stream",
     "text": [
      "[1, 5, 3, 9, 34]\n",
      "[1, 3, 5, 9, 34]\n"
     ]
    }
   ],
   "source": [
    "#  sort list \n",
    "l1= [3,5,1,9,34]\n",
    "for i in range (len(l1)):\n",
    "    for j in range (i+1,len(l1)):\n",
    "        if l1[i]>l1[j]:\n",
    "            l1[i],l1[j]=l1[j],l1[i]\n",
    "            print(l1)\n",
    "    "
   ]
  },
  {
   "cell_type": "code",
   "execution_count": 58,
   "id": "88a0596d",
   "metadata": {},
   "outputs": [
    {
     "name": "stdout",
     "output_type": "stream",
     "text": [
      "1 \n",
      "2 2 \n",
      "3 3 3 \n",
      "4 4 4 4 \n",
      "5 5 5 5 5 \n"
     ]
    }
   ],
   "source": [
    "# pattern\n",
    "\n",
    "for i in range(1,6):\n",
    "    for j in  range (1,i+1):\n",
    "        print(i,end=\" \")\n",
    "    print()"
   ]
  },
  {
   "cell_type": "code",
   "execution_count": 49,
   "id": "eda81bc6",
   "metadata": {},
   "outputs": [
    {
     "data": {
      "text/plain": [
       "'EFDMLDJ'"
      ]
     },
     "execution_count": 49,
     "metadata": {},
     "output_type": "execute_result"
    }
   ],
   "source": [
    "s2= \"efDmldj\"\n",
    "s2.upper()\n",
    "# s3 = \" ewfdGGGGGGkmdiwr\"\n",
    "# s3.lower()"
   ]
  },
  {
   "cell_type": "code",
   "execution_count": 62,
   "id": "e928a415",
   "metadata": {},
   "outputs": [
    {
     "name": "stdout",
     "output_type": "stream",
     "text": [
      "1  \n",
      "1  2  \n",
      "1  2  3  \n",
      "1  2  3  4  \n",
      "1  2  3  4  5  \n"
     ]
    }
   ],
   "source": [
    "for i in range (1,6):\n",
    "    for  j in range (1,i+1):\n",
    "        print(j,end = \"  \")\n",
    "    print()"
   ]
  },
  {
   "cell_type": "code",
   "execution_count": 72,
   "id": "53f25a10",
   "metadata": {},
   "outputs": [
    {
     "name": "stdout",
     "output_type": "stream",
     "text": [
      "[16, 12, 5]\n",
      "[4]\n"
     ]
    }
   ],
   "source": [
    "#  addi two list \n",
    "l1 = [8,9,1]\n",
    "l2 = [8,3,4]\n",
    "l3 = []\n",
    "l4 = []\n",
    "\n",
    "for i in range (len(l1)):\n",
    "    l3.append(l1[i]+l2[i])\n",
    "print(l3)\n",
    "if l1 not in l2:\n",
    "    l4.append(l2[i])\n",
    "    print(l4)"
   ]
  },
  {
   "cell_type": "code",
   "execution_count": 88,
   "id": "ded11484",
   "metadata": {},
   "outputs": [
    {
     "name": "stdout",
     "output_type": "stream",
     "text": [
      " enter the any number for  prime7\n",
      " not prime \n"
     ]
    }
   ],
   "source": [
    "# prime no \n",
    "n= int(input(\" enter the any number for  prime\"))\n",
    "if n==0:\n",
    "    print(\" not prime no \")\n",
    "    for i in range(2,n):\n",
    "        if n%i==0:\n",
    "            print(\"not prime \")\n",
    "            break\n",
    "        else:\n",
    "            print(\"prime number\")\n",
    "else:\n",
    "    print(\" not prime \")"
   ]
  },
  {
   "cell_type": "code",
   "execution_count": 92,
   "id": "a121a15b",
   "metadata": {},
   "outputs": [
    {
     "ename": "SyntaxError",
     "evalue": "invalid syntax (3377643131.py, line 7)",
     "output_type": "error",
     "traceback": [
      "\u001b[1;36m  Cell \u001b[1;32mIn[92], line 7\u001b[1;36m\u001b[0m\n\u001b[1;33m    else:\u001b[0m\n\u001b[1;37m    ^\u001b[0m\n\u001b[1;31mSyntaxError\u001b[0m\u001b[1;31m:\u001b[0m invalid syntax\n"
     ]
    }
   ],
   "source": [
    "# finobacc serise :\n",
    "n=int(input(\"entet any number\"))\n",
    "a =0\n",
    "b=1\n",
    "if n==0:\n",
    "    print(a)\n",
    "    else:\n",
    "        print(a)\n",
    "        print(b)\n",
    "        for i in range(n):\n",
    "            c=a+b\n",
    "            a=b\n",
    "            b=c\n"
   ]
  },
  {
   "cell_type": "code",
   "execution_count": 98,
   "id": "512821f1",
   "metadata": {},
   "outputs": [
    {
     "name": "stdout",
     "output_type": "stream",
     "text": [
      "enter the year to know leap year : 7894\n",
      " it is leap year\n"
     ]
    }
   ],
   "source": [
    "#  leap year\n",
    "year = int(input(\"enter the year to know leap year : \"))\n",
    "\n",
    "if year%4==0 and year%100==0:\n",
    "    print(\" it is leap year\")\n",
    "elif year%100!=0  and year%400:\n",
    "        print(\" it is leap year\")\n",
    "else:\n",
    "    print(' it is no leap year')"
   ]
  },
  {
   "cell_type": "code",
   "execution_count": 97,
   "id": "fa4b6194",
   "metadata": {},
   "outputs": [
    {
     "name": "stdout",
     "output_type": "stream",
     "text": [
      "2.0\n"
     ]
    }
   ],
   "source": [
    "# squar\n",
    "import math\n",
    "s=math.sqrt(4)\n",
    "percentil = \n",
    "print(s)"
   ]
  },
  {
   "cell_type": "code",
   "execution_count": 103,
   "id": "f54465f1",
   "metadata": {},
   "outputs": [
    {
     "name": "stdout",
     "output_type": "stream",
     "text": [
      " not arnmstrong \n"
     ]
    }
   ],
   "source": [
    "# armstrong \n",
    "\n",
    "n= 1034\n",
    "copy_n=n\n",
    "sum = 0\n",
    "power = len(str(n))\n",
    "while n<0:\n",
    "    n=n%10\n",
    "    sum = sum + n**power\n",
    "    n=n//10\n",
    "if (copy_n==sum):\n",
    "    print(\"arnmstrong\")\n",
    "else:\n",
    "    print(\" not arnmstrong \")\n",
    "    \n",
    "    "
   ]
  },
  {
   "cell_type": "code",
   "execution_count": null,
   "id": "e75e201c",
   "metadata": {},
   "outputs": [],
   "source": []
  },
  {
   "cell_type": "code",
   "execution_count": null,
   "id": "c7d9be7f",
   "metadata": {},
   "outputs": [],
   "source": []
  }
 ],
 "metadata": {
  "kernelspec": {
   "display_name": "Python 3 (ipykernel)",
   "language": "python",
   "name": "python3"
  },
  "language_info": {
   "codemirror_mode": {
    "name": "ipython",
    "version": 3
   },
   "file_extension": ".py",
   "mimetype": "text/x-python",
   "name": "python",
   "nbconvert_exporter": "python",
   "pygments_lexer": "ipython3",
   "version": "3.11.5"
  }
 },
 "nbformat": 4,
 "nbformat_minor": 5
}
