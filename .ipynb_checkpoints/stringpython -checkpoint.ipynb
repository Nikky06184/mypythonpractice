{
 "cells": [
  {
   "cell_type": "code",
   "execution_count": 4,
   "id": "7a4d9f1e-cf1c-48df-a045-6d9e75117d99",
   "metadata": {},
   "outputs": [
    {
     "name": "stdout",
     "output_type": "stream",
     "text": [
      "Ravi\n"
     ]
    }
   ],
   "source": [
    "def name():\n",
    "    print(\"Ravi\")\n",
    "\n",
    "name()"
   ]
  },
  {
   "cell_type": "code",
   "execution_count": 19,
   "id": "a79d6efc-f402-4047-8fe2-76a477ae4aeb",
   "metadata": {},
   "outputs": [
    {
     "name": "stdout",
     "output_type": "stream",
     "text": [
      "10\n"
     ]
    }
   ],
   "source": [
    "class Demo:\n",
    "    a=10\n",
    "\n",
    "demoobj=Demo()\n",
    "print (demoobj.a)"
   ]
  },
  {
   "cell_type": "code",
   "execution_count": 24,
   "id": "3d1575bc-283c-405d-9e5e-e9e56cab60bf",
   "metadata": {},
   "outputs": [
    {
     "name": "stdout",
     "output_type": "stream",
     "text": [
      "70\n"
     ]
    }
   ],
   "source": [
    "class data:\n",
    "    def sum_it(self):\n",
    "        print(20+50)\n",
    "objdata=data()\n",
    "objdata.sum_it()"
   ]
  },
  {
   "cell_type": "code",
   "execution_count": 10,
   "id": "4e7a7a5a-f69a-4186-8365-c2aedcb2ec70",
   "metadata": {},
   "outputs": [
    {
     "name": "stdout",
     "output_type": "stream",
     "text": [
      "10\n"
     ]
    }
   ],
   "source": [
    "class democlass:\n",
    "    a=10\n",
    "    def showvalue(self):\n",
    "        print(self.a)\n",
    "obj=democlass()\n",
    "obj.showvalue()\n",
    "        "
   ]
  },
  {
   "cell_type": "code",
   "execution_count": 14,
   "id": "1032cf1e-75bc-4f58-8f89-b1cc736ae33d",
   "metadata": {},
   "outputs": [
    {
     "name": "stdout",
     "output_type": "stream",
     "text": [
      "100\n"
     ]
    }
   ],
   "source": [
    "class house:\n",
    "    a=10\n",
    "    def showmul(self):\n",
    "        self.c=self.a*self.a\n",
    "        print(self.c)\n",
    "\n",
    "mul=house()\n",
    "mul.showmul()\n",
    "\n",
    "        "
   ]
  },
  {
   "cell_type": "code",
   "execution_count": 15,
   "id": "845ebcae-6e41-4bb2-9e54-dc6b7735248b",
   "metadata": {},
   "outputs": [
    {
     "name": "stdout",
     "output_type": "stream",
     "text": [
      "welcome\n"
     ]
    }
   ],
   "source": [
    "class Word:\n",
    "    def write(self):\n",
    "        print(\"welcome\")\n",
    "\n",
    "the=Word()\n",
    "the.write()"
   ]
  },
  {
   "cell_type": "code",
   "execution_count": 16,
   "id": "342399d8-52cd-4c01-8260-821b07a41b96",
   "metadata": {},
   "outputs": [
    {
     "name": "stdout",
     "output_type": "stream",
     "text": [
      "16\n"
     ]
    }
   ],
   "source": [
    "class Bus:\n",
    "    def Truck(self,a,b):\n",
    "        print(a+b)\n",
    "\n",
    "car=Bus()\n",
    "car.Truck(7,9)"
   ]
  },
  {
   "cell_type": "code",
   "execution_count": 35,
   "id": "65f2597c-f7b0-4206-9183-33b9f6c631bd",
   "metadata": {},
   "outputs": [
    {
     "name": "stdout",
     "output_type": "stream",
     "text": [
      "30\n"
     ]
    }
   ],
   "source": [
    "a=10\n",
    "b=20\n",
    "print(a+b)"
   ]
  },
  {
   "cell_type": "code",
   "execution_count": 1,
   "id": "bb26ee5f-a606-4930-825d-21615bb72d90",
   "metadata": {},
   "outputs": [
    {
     "ename": "ModuleNotFoundError",
     "evalue": "No module named 'findspark'",
     "output_type": "error",
     "traceback": [
      "\u001b[1;31m---------------------------------------------------------------------------\u001b[0m",
      "\u001b[1;31mModuleNotFoundError\u001b[0m                       Traceback (most recent call last)",
      "Cell \u001b[1;32mIn[1], line 1\u001b[0m\n\u001b[1;32m----> 1\u001b[0m \u001b[38;5;28;01mimport\u001b[39;00m \u001b[38;5;21;01mfindspark\u001b[39;00m\n\u001b[0;32m      2\u001b[0m findspark\u001b[38;5;241m.\u001b[39minit()\n",
      "\u001b[1;31mModuleNotFoundError\u001b[0m: No module named 'findspark'"
     ]
    }
   ],
   "source": [
    "import findspark\n",
    "findspark.init()"
   ]
  },
  {
   "cell_type": "code",
   "execution_count": 6,
   "id": "df0e5946-1457-4b75-a97a-7345f0a66777",
   "metadata": {},
   "outputs": [
    {
     "name": "stdout",
     "output_type": "stream",
     "text": [
      "w\n",
      "e\n",
      "l\n",
      "c\n",
      "o\n",
      "m\n",
      "e\n",
      " \n",
      "t\n",
      "o\n",
      " \n",
      "m\n",
      "y\n",
      " \n",
      "c\n",
      "o\n",
      "u\n",
      "n\n",
      "t\n",
      "r\n",
      "y\n"
     ]
    }
   ],
   "source": [
    "str1 = \"welcome to my country\"\n",
    "for i in str1:\n",
    "    print(i)"
   ]
  },
  {
   "cell_type": "code",
   "execution_count": 9,
   "id": "c5aff239-bbbf-4d53-9f66-52d074b82e71",
   "metadata": {},
   "outputs": [
    {
     "name": "stdout",
     "output_type": "stream",
     "text": [
      "@@\n",
      "@@@@\n",
      "@@@@@@\n",
      "@@@@@@@@\n"
     ]
    }
   ],
   "source": [
    "for i in range(2,9,2):\n",
    "    print(i*\"@\")"
   ]
  },
  {
   "cell_type": "code",
   "execution_count": 20,
   "id": "b0cde898-b971-44c2-ae31-dcf1e667c31c",
   "metadata": {},
   "outputs": [
    {
     "name": "stdout",
     "output_type": "stream",
     "text": [
      "11\n",
      " nikky  : t\n",
      " nikky  : h\n",
      " nikky  : i\n",
      " nikky  : s\n",
      " nikky  :  \n",
      " nikky  : i\n",
      " nikky  : s\n",
      " nikky  :  \n",
      " nikky  : c\n",
      " nikky  : a\n",
      " nikky  : r\n"
     ]
    }
   ],
   "source": [
    "str1 = \"this is car\"\n",
    "print(len(str1))\n",
    "\n",
    "for i in str1:\n",
    "    print(\" nikky  :\",i)\n",
    "    # if i%2 == 0:\n",
    "    #     print(str1)"
   ]
  },
  {
   "cell_type": "code",
   "execution_count": null,
   "id": "8fd1e369-5ea3-4253-9791-c14fc88cac65",
   "metadata": {},
   "outputs": [],
   "source": []
  }
 ],
 "metadata": {
  "kernelspec": {
   "display_name": "Python 3 (ipykernel)",
   "language": "python",
   "name": "python3"
  },
  "language_info": {
   "codemirror_mode": {
    "name": "ipython",
    "version": 3
   },
   "file_extension": ".py",
   "mimetype": "text/x-python",
   "name": "python",
   "nbconvert_exporter": "python",
   "pygments_lexer": "ipython3",
   "version": "3.11.5"
  }
 },
 "nbformat": 4,
 "nbformat_minor": 5
}
