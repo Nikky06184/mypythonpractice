{
 "cells": [
  {
   "cell_type": "code",
   "execution_count": 1,
   "id": "c65a3ce2",
   "metadata": {
    "scrolled": true
   },
   "outputs": [
    {
     "ename": "SyntaxError",
     "evalue": "incomplete input (1676353784.py, line 5)",
     "output_type": "error",
     "traceback": [
      "\u001b[1;36m  Cell \u001b[1;32mIn[1], line 5\u001b[1;36m\u001b[0m\n\u001b[1;33m    c. Save the Module file in .py format''''''\u001b[0m\n\u001b[1;37m                                            ^\u001b[0m\n\u001b[1;31mSyntaxError\u001b[0m\u001b[1;31m:\u001b[0m incomplete input\n"
     ]
    }
   ],
   "source": [
    "'''Create a python file named Module. a.Inside the file, define 4 methods named – addition,subtraction, multiplicationanddivision.\n",
    "b. Each method should only accept 2 arguments and should return the result of the\n",
    "operation performed in each method. For e.g., addition() should return the sum of\n",
    "two arguments.\n",
    "c. Save the Module file in .py format''''''"
   ]
  },
  {
   "cell_type": "code",
   "execution_count": 2,
   "id": "493c7474",
   "metadata": {},
   "outputs": [
    {
     "name": "stdout",
     "output_type": "stream",
     "text": [
      "enter first no 4\n",
      "enter any sign +,_,*,/ :-\n",
      "enter second no:5\n"
     ]
    },
    {
     "ename": "TypeError",
     "evalue": "int() argument must be a string, a bytes-like object or a real number, not 'method'",
     "output_type": "error",
     "traceback": [
      "\u001b[1;31m---------------------------------------------------------------------------\u001b[0m",
      "\u001b[1;31mTypeError\u001b[0m                                 Traceback (most recent call last)",
      "Cell \u001b[1;32mIn[2], line 6\u001b[0m\n\u001b[0;32m      3\u001b[0m sign \u001b[38;5;241m=\u001b[39m \u001b[38;5;28minput\u001b[39m(\u001b[38;5;124m\"\u001b[39m\u001b[38;5;124menter any sign +,_,*,/ :\u001b[39m\u001b[38;5;124m\"\u001b[39m)\n\u001b[0;32m      5\u001b[0m secondno \u001b[38;5;241m=\u001b[39m \u001b[38;5;28minput\u001b[39m(\u001b[38;5;124m\"\u001b[39m\u001b[38;5;124menter second no:\u001b[39m\u001b[38;5;124m\"\u001b[39m)\n\u001b[1;32m----> 6\u001b[0m firstno\u001b[38;5;241m=\u001b[39m\u001b[38;5;28mint\u001b[39m(\u001b[38;5;28minput\u001b[39m)\n\u001b[0;32m      7\u001b[0m secondno\u001b[38;5;241m=\u001b[39m \u001b[38;5;28mint\u001b[39m(\u001b[38;5;28minput\u001b[39m)\n\u001b[0;32m      9\u001b[0m \u001b[38;5;28;01mif\u001b[39;00m sign \u001b[38;5;241m==\u001b[39m\u001b[38;5;124m\"\u001b[39m\u001b[38;5;124m+\u001b[39m\u001b[38;5;124m\"\u001b[39m:\n",
      "\u001b[1;31mTypeError\u001b[0m: int() argument must be a string, a bytes-like object or a real number, not 'method'"
     ]
    }
   ],
   "source": [
    "firstno = input(\"enter first no \")\n",
    "\n",
    "sign = input(\"enter any sign +,_,*,/ :\")\n",
    "\n",
    "secondno = input(\"enter second no:\")\n",
    "firstno=int(input)\n",
    "secondno= int(input)\n",
    "\n",
    "if sign ==\"+\":\n",
    "    print(\"additon \",firstno + secondno)\n",
    "elif sign ==\"-\":\n",
    "    print(\"substraction\",firstno - secondno )\n",
    "elif sign==\"*\":\n",
    "    print(\"multiple\",firstno * secondno)\n",
    "elif sign==\"/\":\n",
    "    print(\"divide\",firstno / secondno)\n",
    "else:\n",
    "    print(\"default\")"
   ]
  },
  {
   "cell_type": "code",
   "execution_count": null,
   "id": "930508df",
   "metadata": {},
   "outputs": [],
   "source": [
    "'''Open a new python file and import the Module.py file.\n",
    "a. Now call the 4 methods from the Module.py file, i.e., addition(), subtraction(),\n",
    "multiplication(), and division().'''\n",
    "\n",
    "import math\n",
    "\n",
    "a= int(input(\"enter no1:\"))\n",
    "b= int(input(\"enter no 2:\"))\n",
    "addition = sum (a,b)\n",
    "substraction = min(a,b)\n",
    "average = avg(a,b)\n",
    "multplication = mul(a*b)\n",
    "\n",
    "    \n",
    "    \n"
   ]
  },
  {
   "cell_type": "code",
   "execution_count": null,
   "id": "29088df4",
   "metadata": {},
   "outputs": [],
   "source": [
    "# From the Module file, import only the addition() and pass the arguments so that it ca display the result from the method.\n",
    "\n",
    "import math \n",
    "def addition(a,b):\n",
    "    c=sum(a,b)\n",
    "    print(c)"
   ]
  },
  {
   "cell_type": "code",
   "execution_count": null,
   "id": "e0713e75",
   "metadata": {},
   "outputs": [],
   "source": [
    "addition(5,5)"
   ]
  },
  {
   "cell_type": "code",
   "execution_count": null,
   "id": "c59de7d4",
   "metadata": {},
   "outputs": [],
   "source": [
    "# .From the Module file, import only the subtraction() and pass the arguments so that it can display the result from the method.\n",
    "import math \n",
    "def mint(a,b):\n",
    "    c=min(a,b)\n",
    "    print(c)"
   ]
  },
  {
   "cell_type": "code",
   "execution_count": null,
   "id": "27b71ee9",
   "metadata": {},
   "outputs": [],
   "source": [
    "'''From the Module file, import both the multiplication() and division() and pass the\n",
    "arguments so that it can display the result from the methods.'''\n",
    "\n",
    "import math \n",
    "def multiple(a,b):\n",
    "    c= a*b\n",
    "    print(c)\n",
    "def division(a,b):\n",
    "    c=a/b\n",
    "    print(c)\n",
    "    \n"
   ]
  },
  {
   "cell_type": "code",
   "execution_count": null,
   "id": "2ca0b776",
   "metadata": {},
   "outputs": [],
   "source": [
    "''' Create a python if-else program to check if the given numbers are greater or not, also\n",
    "check whether the given number is an armstrong number or not, and check whether the\n",
    "given number is a prime number or not. Make use of python if-else, and elif statements\n",
    "for the same'''\n",
    "\n",
    "def num(a,b,c):\n",
    "    if a>b and a>b:\n",
    "        \n",
    "        print(\" te no is grater then b and c\")\n",
    "        \n",
    "    elif b>a and b>c:\n",
    "        \n",
    "        print(\"the no is greater then a and c\")\n",
    "        \n",
    "    elif c>a and c>b:\n",
    "        \n",
    "        print(\"the no is greater then a and b\")\n",
    "    else:\n",
    "        \n",
    "        print(\"defalut entery\")"
   ]
  },
  {
   "cell_type": "code",
   "execution_count": null,
   "id": "ac74d667",
   "metadata": {},
   "outputs": [],
   "source": [
    "# Create a calculator program for addition, subtraction, multiplication and floor division.\n",
    "# Take the inputs from the user, and based on the choice of operation, return the results.\n",
    "\n",
    "firstno = input(\"enter first no \")\n",
    "\n",
    "sign = input(\"enter any sign +,_,*,//\")\n",
    "\n",
    "secondno = input(\"enter second no:\")\n",
    "firstno=int(input)\n",
    "secondno= int(input)\n",
    "\n",
    "if sign ==\"+\":\n",
    "    print(\"additon \",firstno + secondno)\n",
    "elif sign ==\"-\":\n",
    "    print(\"substraction\",firstno - secondno )\n",
    "elif sign==\"*\":\n",
    "    print(\"multiple\",firstno * secondno)\n",
    "elif sign==\"/\":\n",
    "    print(\"floor division \",firstno // secondno)\n",
    "else:\n",
    "    print(\"default\")\n"
   ]
  },
  {
   "cell_type": "code",
   "execution_count": null,
   "id": "9f6631ac",
   "metadata": {},
   "outputs": [],
   "source": [
    "#  Create a fibonacci sequence using python if-else statements\n",
    "n= int(input(\"enter any number\"))\n",
    "a=0\n",
    "b=1\n",
    "if n==0:\n",
    "    print(a)\n",
    "else:\n",
    "    print(a)\n",
    "    print(b)\n",
    "for i in range (0,n):\n",
    "    c=a+b\n",
    "    a=b\n",
    "    b=c\n",
    "    print(c)"
   ]
  },
  {
   "cell_type": "code",
   "execution_count": null,
   "id": "ee204e22",
   "metadata": {},
   "outputs": [],
   "source": [
    "# Create a nested dictionary with values as a nested list for each key in the dictionary.\n",
    "person = {1: {'name': 'Manish', 'age': '27', 'gender': 'Male'},\n",
    "          2: {'name': 'Reema', 'age': '22', 'gender': 'Female'}}\n",
    "\n",
    "print(person)"
   ]
  },
  {
   "cell_type": "code",
   "execution_count": null,
   "id": "d88a7059",
   "metadata": {},
   "outputs": [],
   "source": [
    "# 0. Create two sets and perform the following:\n",
    "# a. Union of the two sets\n",
    "# b. Intersection of the two sets\n",
    "\n",
    "A = {0, 2, 4, 6, 8}; \n",
    "B = {1, 2, 3, 4, 5}; \n",
    "  \n",
    "# union \n",
    "print(\"Union :\", A | B) \n",
    "  \n",
    "# intersection \n",
    "print(\"Intersection :\", A & B) \n",
    "  \n"
   ]
  },
  {
   "cell_type": "code",
   "execution_count": null,
   "id": "030ac8b9",
   "metadata": {},
   "outputs": [],
   "source": [
    "# 1. Create a nested tuple from the dictionary, with each item in the tuple as a key value pair from the dictionary.\n",
    "test_tuple = ((4, 'Gfg', 10), (3, 'is', 8), (6, 'Best', 10)) \n",
    " \n",
    "# initializing keys \n",
    "keys = ['key', 'value', 'id']\n",
    " \n",
    "# initializing result dictionary\n",
    "res = []\n",
    " \n",
    "# iterate over the tuple and construct the dictionary\n",
    "for sub in test_tuple:\n",
    "    sub_dict = {}\n",
    "    for i in range(len(keys)):\n",
    "        sub_dict[keys[i]] = sub[i]\n",
    "    res.append(sub_dict)\n",
    " \n",
    "# printing result \n",
    "print(\"The converted dictionary : \" + str(res)) "
   ]
  },
  {
   "cell_type": "code",
   "execution_count": null,
   "id": "e9a3a1db",
   "metadata": {},
   "outputs": [],
   "source": [
    "# 2. Create a list of the first 50 even natural numbers, and perform the following operations\n",
    "\n",
    "list1 = [1,32,4,6,8,10,12,14,16,18,20,22,24,26,28,30,32,34,36,38,40,42,44,46,48,52]\n",
    " \n",
    "# iterating each number in list\n",
    "for num in list1:\n",
    " \n",
    "    # checking condition\n",
    "    if num % 2 == 0:\n",
    "        print(num, end=\" \")\n",
    "        \n",
    "#  the item in list \n",
    "print(len(list1))\n",
    "#  reverse \n",
    "l2 = list1[::-1]\n",
    "print(l2)\n",
    "\n",
    "# Sort the list in ascending and descending order.\n",
    " list1.sort()\n",
    "\n",
    "# Get the index value for the element 44, and update the element with the number 100.\n",
    "\n",
    "print(index[44])\n",
    "\n",
    "# Return a copy of the list, with the resulting list containing the square of each element.\n",
    "\n",
    "list1 =  \n",
    "\n",
    "\n"
   ]
  },
  {
   "cell_type": "code",
   "execution_count": null,
   "id": "b93cdd05",
   "metadata": {},
   "outputs": [],
   "source": [
    "#  Create a nested dictionary and perform the following operations.\n",
    "# h. Return a list with the key value pairs from the dictionary.\n",
    "# i. Return a list with just the keys from the dictionary.\n",
    "# j. Remove the first and last key value from the dictionary.\n",
    "# k. Update the last key value pair in the dictionary after removing in the 3rd step.\n"
   ]
  },
  {
   "cell_type": "code",
   "execution_count": null,
   "id": "b92cfa69",
   "metadata": {},
   "outputs": [],
   "source": [
    "# 14. For the given strings A = “Python Programming Language”, B = “Best in the World” , perform\n",
    "# the following operations.\n",
    "# l. Using indexing operations, get the text “gram” from the string A.\n",
    "# m. Using indexing operations, get the text “World” from the string B.\n",
    "# n. Change the letters in both strings to Uppercase letters.\n",
    "# o. Concatenate the two strings.\n",
    "# 15. Create a list with n numbers, and using negative indexing return t"
   ]
  },
  {
   "cell_type": "code",
   "execution_count": null,
   "id": "2fbfa629",
   "metadata": {},
   "outputs": [],
   "source": [
    "#Create a list with n numbers, and using negative indexing return the list starting from the 5th index to the n-2th index."
   ]
  },
  {
   "cell_type": "code",
   "execution_count": null,
   "id": "b02d3d94",
   "metadata": {},
   "outputs": [],
   "source": [
    "# using range(), create a list with numbers ranging from 5-100, and the number of elements should be exactly 19.\n",
    "\n",
    "for i in range(5,101):\n",
    "    print(i, end =\" \")"
   ]
  },
  {
   "cell_type": "code",
   "execution_count": null,
   "id": "3dfe9b51",
   "metadata": {},
   "outputs": [],
   "source": [
    "# Create a function named ‘factor’ that can only accept 1 argument. The function should return the factorial of that number.\n"
   ]
  }
 ],
 "metadata": {
  "kernelspec": {
   "display_name": "Python 3 (ipykernel)",
   "language": "python",
   "name": "python3"
  },
  "language_info": {
   "codemirror_mode": {
    "name": "ipython",
    "version": 3
   },
   "file_extension": ".py",
   "mimetype": "text/x-python",
   "name": "python",
   "nbconvert_exporter": "python",
   "pygments_lexer": "ipython3",
   "version": "3.11.5"
  }
 },
 "nbformat": 4,
 "nbformat_minor": 5
}
