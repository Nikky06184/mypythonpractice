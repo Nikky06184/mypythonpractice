{
 "cells": [
  {
   "cell_type": "code",
   "execution_count": null,
   "id": "468a9b79-e523-495b-8764-985a649625bc",
   "metadata": {},
   "outputs": [
    {
     "name": "stderr",
     "output_type": "stream",
     "text": [
      "<>:2: SyntaxWarning: invalid escape sequence '\\,'\n",
      "<>:2: SyntaxWarning: invalid escape sequence '\\,'\n",
      "C:\\Users\\nikky\\AppData\\Local\\Temp\\ipykernel_13116\\3266516929.py:2: SyntaxWarning: invalid escape sequence '\\,'\n",
      "  sign = input(\" enter any sign amongs all (+,-,\\,*)\")\n"
     ]
    }
   ],
   "source": [
    "a = int(input(\" enter the any no a:\"))\n",
    "sign = input(\" enter any sign amongs all (+,-,\\,*)\")\n",
    "b = int(input(\" enter the any no b:\"))\n",
    "\n",
    "if sign ==\"+\":\n",
    "    print(\"add\",a+b)\n",
    "elif sign ==\"-\":\n",
    "    print(\"minus\",a-b)\n",
    "elif sign ==\"/\":\n",
    "    print(\"divide\",a/b)\n",
    "elif sign==\"*\":\n",
    "    print(\"multiplication\",a*b)\n",
    "else:\n",
    "    print(\"default\")\n"
   ]
  },
  {
   "cell_type": "code",
   "execution_count": null,
   "id": "82268691-5627-41a5-97a8-a53258d93a0a",
   "metadata": {},
   "outputs": [],
   "source": []
  },
  {
   "cell_type": "code",
   "execution_count": null,
   "id": "28393959-d38a-4236-9fce-0dc662bc655b",
   "metadata": {},
   "outputs": [],
   "source": []
  },
  {
   "cell_type": "code",
   "execution_count": null,
   "id": "c245c2f9-5e03-4b33-904b-46ad33a22f25",
   "metadata": {},
   "outputs": [],
   "source": []
  },
  {
   "cell_type": "code",
   "execution_count": null,
   "id": "c1ef5207-3ab4-49f8-bf72-dd3c3d65c91b",
   "metadata": {},
   "outputs": [],
   "source": []
  },
  {
   "cell_type": "code",
   "execution_count": null,
   "id": "5252d36c-fa91-48b1-8edd-7a9254ff90da",
   "metadata": {},
   "outputs": [],
   "source": []
  }
 ],
 "metadata": {
  "kernelspec": {
   "display_name": "Python 3 (ipykernel)",
   "language": "python",
   "name": "python3"
  },
  "language_info": {
   "codemirror_mode": {
    "name": "ipython",
    "version": 3
   },
   "file_extension": ".py",
   "mimetype": "text/x-python",
   "name": "python",
   "nbconvert_exporter": "python",
   "pygments_lexer": "ipython3",
   "version": "3.11.5"
  }
 },
 "nbformat": 4,
 "nbformat_minor": 5
}
