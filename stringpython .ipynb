{
 "cells": [
  {
   "cell_type": "code",
   "execution_count": 4,
   "id": "7a4d9f1e-cf1c-48df-a045-6d9e75117d99",
   "metadata": {},
   "outputs": [
    {
     "name": "stdout",
     "output_type": "stream",
     "text": [
      "Ravi\n"
     ]
    }
   ],
   "source": [
    "def name():\n",
    "    print(\"Ravi\")\n",
    "\n",
    "name()"
   ]
  },
  {
   "cell_type": "code",
   "execution_count": 19,
   "id": "a79d6efc-f402-4047-8fe2-76a477ae4aeb",
   "metadata": {},
   "outputs": [
    {
     "name": "stdout",
     "output_type": "stream",
     "text": [
      "10\n"
     ]
    }
   ],
   "source": [
    "class Demo:\n",
    "    a=10\n",
    "\n",
    "demoobj=Demo()\n",
    "print (demoobj.a)"
   ]
  },
  {
   "cell_type": "code",
   "execution_count": 24,
   "id": "3d1575bc-283c-405d-9e5e-e9e56cab60bf",
   "metadata": {},
   "outputs": [
    {
     "name": "stdout",
     "output_type": "stream",
     "text": [
      "70\n"
     ]
    }
   ],
   "source": [
    "class data:\n",
    "    def sum_it(self):\n",
    "        print(20+50)\n",
    "objdata=data()\n",
    "objdata.sum_it()"
   ]
  },
  {
   "cell_type": "code",
   "execution_count": 10,
   "id": "4e7a7a5a-f69a-4186-8365-c2aedcb2ec70",
   "metadata": {},
   "outputs": [
    {
     "name": "stdout",
     "output_type": "stream",
     "text": [
      "10\n"
     ]
    }
   ],
   "source": [
    "class democlass:\n",
    "    a=10\n",
    "    def showvalue(self):\n",
    "        print(self.a)\n",
    "obj=democlass()\n",
    "obj.showvalue()\n",
    "        "
   ]
  },
  {
   "cell_type": "code",
   "execution_count": 14,
   "id": "1032cf1e-75bc-4f58-8f89-b1cc736ae33d",
   "metadata": {},
   "outputs": [
    {
     "name": "stdout",
     "output_type": "stream",
     "text": [
      "100\n"
     ]
    }
   ],
   "source": [
    "class house:\n",
    "    a=10\n",
    "    def showmul(self):\n",
    "        self.c=self.a*self.a\n",
    "        print(self.c)\n",
    "\n",
    "mul=house()\n",
    "mul.showmul()\n",
    "\n",
    "        "
   ]
  },
  {
   "cell_type": "code",
   "execution_count": 15,
   "id": "845ebcae-6e41-4bb2-9e54-dc6b7735248b",
   "metadata": {},
   "outputs": [
    {
     "name": "stdout",
     "output_type": "stream",
     "text": [
      "welcome\n"
     ]
    }
   ],
   "source": [
    "class Word:\n",
    "    def write(self):\n",
    "        print(\"welcome\")\n",
    "\n",
    "the=Word()\n",
    "the.write()"
   ]
  },
  {
   "cell_type": "code",
   "execution_count": 16,
   "id": "342399d8-52cd-4c01-8260-821b07a41b96",
   "metadata": {},
   "outputs": [
    {
     "name": "stdout",
     "output_type": "stream",
     "text": [
      "16\n"
     ]
    }
   ],
   "source": [
    "class Bus:\n",
    "    def Truck(self,a,b):\n",
    "        print(a+b)\n",
    "\n",
    "car=Bus()\n",
    "car.Truck(7,9)"
   ]
  },
  {
   "cell_type": "code",
   "execution_count": 35,
   "id": "65f2597c-f7b0-4206-9183-33b9f6c631bd",
   "metadata": {},
   "outputs": [
    {
     "name": "stdout",
     "output_type": "stream",
     "text": [
      "30\n"
     ]
    }
   ],
   "source": [
    "a=10\n",
    "b=20\n",
    "print(a+b)"
   ]
  },
  {
   "cell_type": "code",
   "execution_count": 1,
   "id": "bb26ee5f-a606-4930-825d-21615bb72d90",
   "metadata": {},
   "outputs": [
    {
     "ename": "ModuleNotFoundError",
     "evalue": "No module named 'findspark'",
     "output_type": "error",
     "traceback": [
      "\u001b[1;31m---------------------------------------------------------------------------\u001b[0m",
      "\u001b[1;31mModuleNotFoundError\u001b[0m                       Traceback (most recent call last)",
      "Cell \u001b[1;32mIn[1], line 1\u001b[0m\n\u001b[1;32m----> 1\u001b[0m \u001b[38;5;28;01mimport\u001b[39;00m \u001b[38;5;21;01mfindspark\u001b[39;00m\n\u001b[0;32m      2\u001b[0m findspark\u001b[38;5;241m.\u001b[39minit()\n",
      "\u001b[1;31mModuleNotFoundError\u001b[0m: No module named 'findspark'"
     ]
    }
   ],
   "source": [
    "import findspark\n",
    "findspark.init()"
   ]
  },
  {
   "cell_type": "code",
   "execution_count": 2,
   "id": "df0e5946-1457-4b75-a97a-7345f0a66777",
   "metadata": {},
   "outputs": [
    {
     "name": "stdout",
     "output_type": "stream",
     "text": [
      "w\n",
      "e\n",
      "l\n",
      "c\n",
      "o\n",
      "m\n",
      "e\n",
      " \n",
      "t\n",
      "o\n",
      " \n",
      "m\n",
      "y\n",
      " \n",
      "c\n",
      "o\n",
      "u\n",
      "n\n",
      "t\n",
      "r\n",
      "y\n"
     ]
    }
   ],
   "source": [
    "str1 = \"welcome to my country\"\n",
    "for i in str1:\n",
    "    print(i)"
   ]
  },
  {
   "cell_type": "code",
   "execution_count": 9,
   "id": "c5aff239-bbbf-4d53-9f66-52d074b82e71",
   "metadata": {},
   "outputs": [
    {
     "name": "stdout",
     "output_type": "stream",
     "text": [
      "@@\n",
      "@@@@\n",
      "@@@@@@\n",
      "@@@@@@@@\n"
     ]
    }
   ],
   "source": [
    "for i in range(2,9,2):\n",
    "    print(i*\"@\")"
   ]
  },
  {
   "cell_type": "code",
   "execution_count": 4,
   "id": "b0cde898-b971-44c2-ae31-dcf1e667c31c",
   "metadata": {},
   "outputs": [
    {
     "name": "stdout",
     "output_type": "stream",
     "text": [
      "11\n",
      " nikky  : this\n",
      " nikky  : is\n",
      " nikky  : car\n"
     ]
    }
   ],
   "source": [
    "str1 = \"this is car\"\n",
    "print(len(str1))\n",
    "s1 = str1.split()\n",
    "\n",
    "for i in s1:\n",
    "    print(\" nikky  :\",i)\n",
    "    # if i%2 == 0:\n",
    "    #     print(str1)"
   ]
  },
  {
   "cell_type": "code",
   "execution_count": 16,
   "id": "8fd1e369-5ea3-4253-9791-c14fc88cac65",
   "metadata": {},
   "outputs": [
    {
     "name": "stdout",
     "output_type": "stream",
     "text": [
      "even length of words is:  google\n",
      "google\n",
      "10\n",
      "['google', 'this', 'is', 'not', 'true', '', 'too', 'please', 'check', '']\n",
      "even length of words is:  this\n",
      "this\n",
      "10\n",
      "['google', 'this', 'is', 'not', 'true', '', 'too', 'please', 'check', '']\n",
      "even length of words is:  is\n",
      "is\n",
      "10\n",
      "['google', 'this', 'is', 'not', 'true', '', 'too', 'please', 'check', '']\n",
      "not\n",
      "10\n",
      "['google', 'this', 'is', 'not', 'true', '', 'too', 'please', 'check', '']\n",
      "even length of words is:  true\n",
      "true\n",
      "10\n",
      "['google', 'this', 'is', 'not', 'true', '', 'too', 'please', 'check', '']\n",
      "even length of words is:  \n",
      "\n",
      "10\n",
      "['google', 'this', 'is', 'not', 'true', '', 'too', 'please', 'check', '']\n",
      "too\n",
      "10\n",
      "['google', 'this', 'is', 'not', 'true', '', 'too', 'please', 'check', '']\n",
      "even length of words is:  please\n",
      "please\n",
      "10\n",
      "['google', 'this', 'is', 'not', 'true', '', 'too', 'please', 'check', '']\n",
      "check\n",
      "10\n",
      "['google', 'this', 'is', 'not', 'true', '', 'too', 'please', 'check', '']\n",
      "even length of words is:  \n",
      "\n",
      "10\n",
      "['google', 'this', 'is', 'not', 'true', '', 'too', 'please', 'check', '']\n"
     ]
    }
   ],
   "source": [
    "str1 = \"google this is not true  too please check \"\n",
    "s2 = str1.split(\" \")\n",
    "for i in s2:\n",
    "    if len(i)%2==0:\n",
    "        print(\"even length of words is: \",i)\n",
    "    print(i)\n",
    "    print(len(s2))\n",
    "    print(s2)"
   ]
  },
  {
   "cell_type": "code",
   "execution_count": 20,
   "id": "106dbeda",
   "metadata": {},
   "outputs": [
    {
     "name": "stdout",
     "output_type": "stream",
     "text": [
      "[6, 11, 14] "
     ]
    }
   ],
   "source": [
    "# add two list \n",
    "\n",
    "l1 = [3,6,7]\n",
    "l2 = [3,5,7]\n",
    "l3=[]\n",
    "\n",
    "for i in  range(len(l1)):\n",
    "    l3.append(l1[i]+l2[i])\n",
    "print(l3,end = \" \")"
   ]
  },
  {
   "cell_type": "code",
   "execution_count": 22,
   "id": "7248feba",
   "metadata": {},
   "outputs": [
    {
     "name": "stdout",
     "output_type": "stream",
     "text": [
      " gjkfj fkgkergkr\n"
     ]
    }
   ],
   "source": [
    "#  add two string\n",
    "\n",
    "s1=\" gjkfj\"\n",
    "s2= \"fkgkergkr\"\n",
    "\n",
    "s3 = s1+\" \"+s2\n",
    "print(s3)"
   ]
  },
  {
   "cell_type": "code",
   "execution_count": 25,
   "id": "ea84a7f2",
   "metadata": {},
   "outputs": [
    {
     "name": "stdout",
     "output_type": "stream",
     "text": [
      "enter the stringmadam\n",
      "it is plindreome\n"
     ]
    }
   ],
   "source": [
    "#  plandromi strnt (resvers is also same and not reversee also same )\n",
    "\n",
    "str1 = input(\"enter the string\")\n",
    "str2 = str1[-1::-1]\n",
    "if (str1==str2):\n",
    "    print(\"it is pliandrome\")\n",
    "else:\n",
    "    print(\"not pliandrome\")\n",
    "    "
   ]
  },
  {
   "cell_type": "code",
   "execution_count": 26,
   "id": "5429fb0e",
   "metadata": {},
   "outputs": [
    {
     "name": "stdout",
     "output_type": "stream",
     "text": [
      " mama\n"
     ]
    }
   ],
   "source": [
    "# revers words 0\n",
    "s1= \" mama\"\n",
    "s1[::-1]\n",
    "print(s1)"
   ]
  },
  {
   "cell_type": "code",
   "execution_count": 29,
   "id": "796d9b4e",
   "metadata": {},
   "outputs": [
    {
     "name": "stdout",
     "output_type": "stream",
     "text": [
      "the is not same even in reverse\n"
     ]
    }
   ],
   "source": [
    "a=\"mama ykjhlnkl\"\n",
    "b= \"mama gkhjlk;\"\n",
    "b=a[::-1]\n",
    "if a==b:\n",
    "    print(\"the a is revesre  same \")\n",
    "else:\n",
    "    print(\"the is not same even in reverse\")"
   ]
  },
  {
   "cell_type": "code",
   "execution_count": 34,
   "id": "4c053726",
   "metadata": {},
   "outputs": [
    {
     "name": "stdout",
     "output_type": "stream",
     "text": [
      " mello\n"
     ]
    }
   ],
   "source": [
    "# remove the woords  \n",
    "\n",
    "t1= \"hello\"\n",
    "t2 = t1.replace(\"h\",\" m\")\n",
    "print(t2)"
   ]
  },
  {
   "cell_type": "code",
   "execution_count": 43,
   "id": "7e285148",
   "metadata": {},
   "outputs": [
    {
     "name": "stdout",
     "output_type": "stream",
     "text": [
      "yes it is present\n"
     ]
    }
   ],
   "source": [
    "# to know this word in tis string \n",
    "\n",
    "s1 = \"greek is the best greek\"\n",
    "if  \"greek\" in s1:\n",
    "    print(\"yes it is present\")\n",
    "else:\n",
    "    print(\"this is not present\")"
   ]
  },
  {
   "cell_type": "code",
   "execution_count": 37,
   "id": "cd5facc3",
   "metadata": {},
   "outputs": [
    {
     "name": "stdout",
     "output_type": "stream",
     "text": [
      "Yes! it is present in the string\n"
     ]
    }
   ],
   "source": [
    "# Take input from users\n",
    "MyString1 = \"A geek in need is a geek indeed\"\n",
    "\n",
    "if \"need\" in MyString1:\n",
    "\tprint(\"Yes! it is present in the string\")\n",
    "else:\n",
    "\tprint(\"No! it is not present\")\n"
   ]
  },
  {
   "cell_type": "code",
   "execution_count": 44,
   "id": "fe1b2e4d",
   "metadata": {},
   "outputs": [
    {
     "name": "stdout",
     "output_type": "stream",
     "text": [
      "The original string is : Gfg is best . Geeks are good and Geeks like Gfg\n",
      "The words frequency : {'Gfg': 2, 'is': 1, 'best': 1, '.': 1, 'Geeks': 2, 'are': 1, 'good': 1, 'and': 1, 'like': 1}\n"
     ]
    }
   ],
   "source": [
    "# Python3 code to demonstrate working of\n",
    "# Words Frequency in String Shorthands\n",
    "# Using Counter() + split()\n",
    "\n",
    "from collections import Counter\n",
    "\n",
    "# initializing string\n",
    "test_str = 'Gfg is best . Geeks are good and Geeks like Gfg'\n",
    "\n",
    "# printing original string\n",
    "print(\"The original string is : \" + str(test_str))\n",
    "\n",
    "# Words Frequency in String Shorthands\n",
    "# using Counter() + split()\n",
    "res = Counter(test_str.split())\n",
    "\n",
    "# Printing result\n",
    "print(\"The words frequency : \" + str(dict(res)))\n"
   ]
  },
  {
   "cell_type": "code",
   "execution_count": 48,
   "id": "7006f272",
   "metadata": {},
   "outputs": [
    {
     "ename": "TypeError",
     "evalue": "bad operand type for unary +: 'list'",
     "output_type": "error",
     "traceback": [
      "\u001b[1;31m---------------------------------------------------------------------------\u001b[0m",
      "\u001b[1;31mTypeError\u001b[0m                                 Traceback (most recent call last)",
      "Cell \u001b[1;32mIn[48], line 3\u001b[0m\n\u001b[0;32m      1\u001b[0m t1 \u001b[38;5;241m=\u001b[39m\u001b[38;5;124m\"\u001b[39m\u001b[38;5;124m hello what\u001b[39m\u001b[38;5;124m'\u001b[39m\u001b[38;5;124ms up all are good \u001b[39m\u001b[38;5;124m\"\u001b[39m\n\u001b[0;32m      2\u001b[0m t2\u001b[38;5;241m=\u001b[39mt1\u001b[38;5;241m.\u001b[39msplit()\n\u001b[1;32m----> 3\u001b[0m \u001b[38;5;28mprint\u001b[39m(\u001b[38;5;124m\"\u001b[39m\u001b[38;5;124m this is original words in dictonary form :\u001b[39m\u001b[38;5;124m\"\u001b[39m,\u001b[38;5;241m+\u001b[39m t2)\n",
      "\u001b[1;31mTypeError\u001b[0m: bad operand type for unary +: 'list'"
     ]
    }
   ],
   "source": [
    "t1 =\" hello what's up all are good \"\n",
    "t2=t1.split()\n",
    "print(\" this is original words in dictonary form :\",+ t2)"
   ]
  },
  {
   "cell_type": "code",
   "execution_count": 4,
   "id": "cd97851a",
   "metadata": {},
   "outputs": [
    {
     "name": "stdout",
     "output_type": "stream",
     "text": [
      "2\n"
     ]
    }
   ],
   "source": [
    "from collections import Counter\n",
    "\n",
    "s1 = \"this is very good this is not  \"\n",
    "s2 = s1.count(\"th\")\n",
    "print(s2)"
   ]
  },
  {
   "cell_type": "code",
   "execution_count": 58,
   "id": "bde6adbe",
   "metadata": {},
   "outputs": [
    {
     "name": "stdout",
     "output_type": "stream",
     "text": [
      "this is n dictionary form count  {'this': 2, 'is': 2, 'very': 1, 'good': 1, 'not': 1}\n"
     ]
    }
   ],
   "source": [
    "from collections import Counter\n",
    "s1 = \"this is very good this is not  \"\n",
    "s2= Counter(s1.split())\n",
    "print(\"this is n dictionary form count \", str(dict(s2)))"
   ]
  },
  {
   "cell_type": "code",
   "execution_count": 1,
   "id": "b5701b45",
   "metadata": {},
   "outputs": [],
   "source": [
    "# Python program to check whether the string is Symmetrical or Palindrome\n",
    "# Reverse words in a given String in Python\n",
    "# Ways to remove i’th character from string in Python\n",
    "# Find length of a string in python (4 ways)\n",
    "# Python program to print even length words in a string"
   ]
  },
  {
   "cell_type": "code",
   "execution_count": 12,
   "id": "7d55a443",
   "metadata": {},
   "outputs": [
    {
     "name": "stdout",
     "output_type": "stream",
     "text": [
      "enter any string : madam\n",
      " this is  plindrom\n"
     ]
    }
   ],
   "source": [
    "# Python program to check whether the string is Symmetrical or Palindrome\n",
    "\n",
    "s1 = input(\"enter any string : \")\n",
    "# s2= s1.split()\n",
    "s2=s1[-1::-1]\n",
    "if (s1 == s2):\n",
    "    print(\" this is  plindrom\")\n",
    "else:\n",
    "    print(\" not plindrom\")"
   ]
  },
  {
   "cell_type": "code",
   "execution_count": 10,
   "id": "ee27d2ae",
   "metadata": {},
   "outputs": [
    {
     "name": "stdout",
     "output_type": "stream",
     "text": [
      "enter the string : jhjjk\n",
      "not same in revese \n"
     ]
    }
   ],
   "source": [
    "# Reverse words in a given String in Python\n",
    "s1 = input (\"enter the string : \")\n",
    "# s2 = s1.split()\n",
    "s2=s1[::-1]\n",
    "if s1==s2:\n",
    "    print(\"it is revers same\")\n",
    "else:\n",
    "    print(\"not same in revese \")\n",
    "\n"
   ]
  },
  {
   "cell_type": "code",
   "execution_count": 11,
   "id": "7db6b6d5",
   "metadata": {},
   "outputs": [
    {
     "name": "stdout",
     "output_type": "stream",
     "text": [
      "enter any string hjkkjlkkiii\n",
      "hjkkjlkk111\n"
     ]
    }
   ],
   "source": [
    "# Ways to remove i’th character from string in Python\n",
    "\n",
    "s1 = input(\"enter any string \")\n",
    "s2= s1.replace(\"i\",\"1\")\n",
    "print(s2)"
   ]
  },
  {
   "cell_type": "code",
   "execution_count": 9,
   "id": "ed7a3008",
   "metadata": {},
   "outputs": [
    {
     "name": "stdout",
     "output_type": "stream",
     "text": [
      "this is length {'this': 1, 'is': 1, 'what': 1, 'i': 1, 'saw': 1, 'swa': 1, 'there': 1}\n"
     ]
    }
   ],
   "source": [
    "# Find length of a string in python (4 ways)\n",
    "s1 = \" this is what i saw swa  there \"\n",
    "# len(s1)\n",
    "# another way\n",
    "s2 = Counter (s1.split())\n",
    "print(\"this is length\", str(dict(s2)))\n",
    "# Counter(s2)"
   ]
  },
  {
   "cell_type": "code",
   "execution_count": 35,
   "id": "3050c95e",
   "metadata": {},
   "outputs": [
    {
     "name": "stdout",
     "output_type": "stream",
     "text": [
      " this is even words in string : this  this is even words in string : is  this is even words in string : done "
     ]
    }
   ],
   "source": [
    "# Python program to print even length words in a string\n",
    "\n",
    "s1 = \" this is not done but \"\n",
    "\n",
    "s2 = s1.split()\n",
    "\n",
    "for i in s2:\n",
    "    if len(i)%2==0:\n",
    "        print(\" this is even words in string :\" ,i,end =\" \")"
   ]
  },
  {
   "cell_type": "code",
   "execution_count": 42,
   "id": "ead258a0",
   "metadata": {},
   "outputs": [],
   "source": [
    "# Python Dictionary Exercises\n",
    "# Python | Sort Python Dictionaries by Key or Value\n",
    "# Handling missing keys in Python dictionaries\n",
    "# Python dictionary with keys having multiple inputs\n",
    "# Python program to find the sum of all items in a dictionary\n",
    "# Python program to find the size of a Dictionary"
   ]
  },
  {
   "cell_type": "code",
   "execution_count": 43,
   "id": "0598d9d4",
   "metadata": {},
   "outputs": [
    {
     "name": "stdout",
     "output_type": "stream",
     "text": [
      "{'rajnish': 9, 'ravi': 10, 'sanjeev': 15, 'suraj': 32, 'yash': 2}\n"
     ]
    }
   ],
   "source": [
    "# Python Sort Python Dictionaries by Key or Value\n",
    "\n",
    "# l1 ={ \"m\":1, \"N\":3, \"G\":4}\n",
    "myDict = {'ravi': 10, 'rajnish': 9,\n",
    "\t\t'sanjeev': 15, 'yash': 2, 'suraj': 32}\n",
    "\n",
    "myKeys = list(myDict.keys())\n",
    "myKeys.sort()\n",
    "sorted_dict = {i: myDict[i] for i in myKeys}\n",
    "\n",
    "print(sorted_dict)\n",
    "\n"
   ]
  },
  {
   "cell_type": "code",
   "execution_count": 62,
   "id": "fcaa6456",
   "metadata": {},
   "outputs": [
    {
     "name": "stdout",
     "output_type": "stream",
     "text": [
      "h\n",
      "G\n",
      "Y\n"
     ]
    }
   ],
   "source": [
    "#  l1 ={ \"m\":1, \"N\":3, \"G\":4}\n",
    "# dc = list (l1.keys())\n",
    "# dc.sort()\n",
    "# dcs= {i:l1[i]for i in l1}\n",
    "# print(dcs)\n",
    "\n",
    "dictinory = {\"h\":4,\"G\":3,\"Y\":8}\n",
    "for key, i in enumerate(dictinory):\n",
    "    print(i)"
   ]
  },
  {
   "cell_type": "code",
   "execution_count": 82,
   "id": "4227aa99",
   "metadata": {},
   "outputs": [
    {
     "name": "stdout",
     "output_type": "stream",
     "text": [
      "{'h': 4, 'G': 3}\n",
      "{'h': 4, 'G': 3, 'Y': 8, 'p': 7}\n",
      "{'h': 4, 'G': 3, 'Y': 8, 'p': 7}\n"
     ]
    }
   ],
   "source": [
    "# Handling missing keys in Python dictionaries\n",
    "dictinory = {\"h\":4,\"G\":3,\"Y\":8}\n",
    "del dictinory [\"Y\"]\n",
    "print(dictinory)\n",
    "\n",
    "# adding  keys in Python dictionaries\n",
    "\n",
    "dictinory= {\"h\":4,\"G\":3,\"Y\":8}\n",
    "\n",
    "dictinory[\"p\"]=7\n",
    "print(dictinory)\n",
    "\n"
   ]
  },
  {
   "cell_type": "code",
   "execution_count": 89,
   "id": "df2633f7",
   "metadata": {},
   "outputs": [
    {
     "name": "stdout",
     "output_type": "stream",
     "text": [
      "{'h': 4, 'Y': 8, 'p': 7}\n",
      "{'h': 4, 'Y': 8, 'p': 7}\n",
      "{'h': 4, 'Y': 8, 'p': 7}\n"
     ]
    }
   ],
   "source": [
    "\n",
    "dictinory1=3\n",
    "for key, item in dictinory.items():\n",
    "    if item is dictinory1:\n",
    "        del dictinory[key]\n",
    "        break\n",
    "    print(dictinory)"
   ]
  },
  {
   "cell_type": "code",
   "execution_count": 90,
   "id": "ab37d989",
   "metadata": {},
   "outputs": [
    {
     "ename": "AttributeError",
     "evalue": "'dict' object has no attribute 'item'",
     "output_type": "error",
     "traceback": [
      "\u001b[1;31m---------------------------------------------------------------------------\u001b[0m",
      "\u001b[1;31mAttributeError\u001b[0m                            Traceback (most recent call last)",
      "Cell \u001b[1;32mIn[90], line 2\u001b[0m\n\u001b[0;32m      1\u001b[0m d1 \u001b[38;5;241m=\u001b[39m{\u001b[38;5;241m1\u001b[39m:\u001b[38;5;124m\"\u001b[39m\u001b[38;5;124mo\u001b[39m\u001b[38;5;124m\"\u001b[39m,\u001b[38;5;241m4\u001b[39m:\u001b[38;5;241m2\u001b[39m}\n\u001b[1;32m----> 2\u001b[0m \u001b[38;5;28;01mfor\u001b[39;00m key ,item \u001b[38;5;129;01min\u001b[39;00m d1\u001b[38;5;241m.\u001b[39mitem():\n\u001b[0;32m      3\u001b[0m     \u001b[38;5;28;01mif\u001b[39;00m item \u001b[38;5;129;01mis\u001b[39;00m d1:\n\u001b[0;32m      4\u001b[0m         \u001b[38;5;28;01mdel\u001b[39;00m d1[key]\n",
      "\u001b[1;31mAttributeError\u001b[0m: 'dict' object has no attribute 'item'"
     ]
    }
   ],
   "source": [
    "d1 ={1:\"o\",4:2}\n",
    "for key ,item in d1.item():\n",
    "    if item is d1:\n",
    "        del d1[key]\n",
    "        break \n",
    "        print(d1)"
   ]
  },
  {
   "cell_type": "code",
   "execution_count": 93,
   "id": "d30ec887",
   "metadata": {},
   "outputs": [
    {
     "name": "stdout",
     "output_type": "stream",
     "text": [
      "Age\n"
     ]
    }
   ],
   "source": [
    "# \n",
    "d = {'Name': 'Ram', 'Age': '19', 'Country': 'India'} \n",
    "print(list(d.items())[1][0]) \n",
    "# print(list(d.items())[1][1])\n",
    "#  in this 0"
   ]
  },
  {
   "cell_type": "code",
   "execution_count": null,
   "id": "60f96604",
   "metadata": {},
   "outputs": [],
   "source": []
  }
 ],
 "metadata": {
  "kernelspec": {
   "display_name": "Python 3 (ipykernel)",
   "language": "python",
   "name": "python3"
  },
  "language_info": {
   "codemirror_mode": {
    "name": "ipython",
    "version": 3
   },
   "file_extension": ".py",
   "mimetype": "text/x-python",
   "name": "python",
   "nbconvert_exporter": "python",
   "pygments_lexer": "ipython3",
   "version": "3.11.5"
  }
 },
 "nbformat": 4,
 "nbformat_minor": 5
}
