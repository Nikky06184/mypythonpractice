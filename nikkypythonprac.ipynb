{
 "cells": [
  {
   "cell_type": "code",
   "execution_count": 34,
   "id": "04543ede",
   "metadata": {},
   "outputs": [
    {
     "name": "stdout",
     "output_type": "stream",
     "text": [
      "hello now  \n"
     ]
    }
   ],
   "source": [
    " print(\"hello now  \")"
   ]
  },
  {
   "cell_type": "code",
   "execution_count": 35,
   "id": "468a9b79-e523-495b-8764-985a649625bc",
   "metadata": {},
   "outputs": [
    {
     "name": "stdout",
     "output_type": "stream",
     "text": [
      " enter the any no a:\n"
     ]
    },
    {
     "ename": "ValueError",
     "evalue": "invalid literal for int() with base 10: ''",
     "output_type": "error",
     "traceback": [
      "\u001b[1;31m---------------------------------------------------------------------------\u001b[0m",
      "\u001b[1;31mValueError\u001b[0m                                Traceback (most recent call last)",
      "Cell \u001b[1;32mIn[35], line 1\u001b[0m\n\u001b[1;32m----> 1\u001b[0m a \u001b[38;5;241m=\u001b[39m \u001b[38;5;28mint\u001b[39m(\u001b[38;5;28minput\u001b[39m(\u001b[38;5;124m\"\u001b[39m\u001b[38;5;124m enter the any no a:\u001b[39m\u001b[38;5;124m\"\u001b[39m))\n\u001b[0;32m      2\u001b[0m sign \u001b[38;5;241m=\u001b[39m \u001b[38;5;28minput\u001b[39m(\u001b[38;5;124m\"\u001b[39m\u001b[38;5;124m enter any sign amongs all (+,-,\u001b[39m\u001b[38;5;124m\\\u001b[39m\u001b[38;5;124m,*)\u001b[39m\u001b[38;5;124m\"\u001b[39m)\n\u001b[0;32m      3\u001b[0m b \u001b[38;5;241m=\u001b[39m \u001b[38;5;28mint\u001b[39m(\u001b[38;5;28minput\u001b[39m(\u001b[38;5;124m\"\u001b[39m\u001b[38;5;124m enter the any no b:\u001b[39m\u001b[38;5;124m\"\u001b[39m))\n",
      "\u001b[1;31mValueError\u001b[0m: invalid literal for int() with base 10: ''"
     ]
    }
   ],
   "source": [
    "a = int(input(\" enter the any no a:\"))\n",
    "sign = input(\" enter any sign amongs all (+,-,\\,*)\")\n",
    "b = int(input(\" enter the any no b:\"))\n",
    "\n",
    "if sign ==\"+\":\n",
    "    print(\"add\",a+b)\n",
    "elif sign ==\"-\":\n",
    "    print(\"minus\",a-b)\n",
    "elif sign ==\"/\":\n",
    "    print(\"divide\",a/b)\n",
    "elif sign==\"*\":\n",
    "    print(\"multiplication\",a*b)\n",
    "else:\n",
    "    print(\"default\")\n"
   ]
  },
  {
   "cell_type": "code",
   "execution_count": 36,
   "id": "82268691-5627-41a5-97a8-a53258d93a0a",
   "metadata": {},
   "outputs": [],
   "source": [
    "def work():\n",
    "    print(\"what are you doing \")\n",
    "    print(\"watching TV \")\n",
    "def car():\n",
    "        print(\"BMW \")\n",
    "\n",
    "    \n",
    "    "
   ]
  },
  {
   "cell_type": "code",
   "execution_count": 37,
   "id": "28393959-d38a-4236-9fce-0dc662bc655b",
   "metadata": {},
   "outputs": [
    {
     "name": "stdout",
     "output_type": "stream",
     "text": [
      "BMW \n"
     ]
    }
   ],
   "source": [
    "\n",
    "car()"
   ]
  },
  {
   "cell_type": "code",
   "execution_count": 4,
   "id": "c245c2f9-5e03-4b33-904b-46ad33a22f25",
   "metadata": {},
   "outputs": [
    {
     "name": "stdout",
     "output_type": "stream",
     "text": [
      "what are you doing \n",
      "watching TV \n"
     ]
    }
   ],
   "source": [
    "work()"
   ]
  },
  {
   "cell_type": "code",
   "execution_count": 7,
   "id": "c1ef5207-3ab4-49f8-bf72-dd3c3d65c91b",
   "metadata": {},
   "outputs": [
    {
     "name": "stdout",
     "output_type": "stream",
     "text": [
      "add two number 160\n"
     ]
    }
   ],
   "source": [
    "#  add two number\n",
    "\n",
    "n1= 78 \n",
    "n2=82\n",
    "\n",
    "print(\"add two number\",n1+n2)\n"
   ]
  },
  {
   "cell_type": "code",
   "execution_count": 13,
   "id": "5252d36c-fa91-48b1-8edd-7a9254ff90da",
   "metadata": {},
   "outputs": [
    {
     "name": "stdout",
     "output_type": "stream",
     "text": [
      "78\n",
      "n2 is maximum 89\n"
     ]
    }
   ],
   "source": [
    "#  find the maximum \n",
    "n1=78\n",
    "n2 =71\n",
    "maximum =max(n1,n2)\n",
    "print(maximum)\n",
    "\n",
    "#  by another method \n",
    "def maximum(n1,n2):\n",
    "    if n1>n2:\n",
    "        print(\"n1 is maximum\",n1)\n",
    "    else:\n",
    "        print(\"n2 is maximum\",n2)\n",
    "        \n",
    "maximum(67,89)"
   ]
  },
  {
   "cell_type": "code",
   "execution_count": 18,
   "id": "12102e4b",
   "metadata": {},
   "outputs": [
    {
     "name": "stdout",
     "output_type": "stream",
     "text": [
      "enter the any no 5\n",
      "the not is prime\n"
     ]
    }
   ],
   "source": [
    "#  find the prime number\n",
    "\n",
    "n1 = int(input(\"enter the any no \"))\n",
    "\n",
    "if n1<0:\n",
    "    print(\" no is negative\")\n",
    "    for i in range(2,n1):\n",
    "        if n1%i==0:\n",
    "            print(\"the no is not prime\")\n",
    "            break\n",
    "    else:\n",
    "        print(\"the number is prime\")\n",
    "else:\n",
    "    print(\"the not is prime\")"
   ]
  },
  {
   "cell_type": "code",
   "execution_count": 19,
   "id": "5a9bddaa",
   "metadata": {},
   "outputs": [
    {
     "ename": "SyntaxError",
     "evalue": "invalid syntax (739477034.py, line 8)",
     "output_type": "error",
     "traceback": [
      "\u001b[1;36m  Cell \u001b[1;32mIn[19], line 8\u001b[1;36m\u001b[0m\n\u001b[1;33m    if\u001b[0m\n\u001b[1;37m       ^\u001b[0m\n\u001b[1;31mSyntaxError\u001b[0m\u001b[1;31m:\u001b[0m invalid syntax\n"
     ]
    }
   ],
   "source": [
    "#  the prime no in intervel\n",
    "\n",
    "n1 = int(input(\"enter any number \"))\n",
    "\n",
    "if n<0:\n",
    "    print(\"no is negative \")\n",
    "    for i in range(n1,n3):\n",
    "        if \n",
    "  "
   ]
  },
  {
   "cell_type": "code",
   "execution_count": 22,
   "id": "6040963f",
   "metadata": {},
   "outputs": [
    {
     "name": "stdout",
     "output_type": "stream",
     "text": [
      "the swapping value of x is  78\n",
      "the swapping value of y is  89\n"
     ]
    }
   ],
   "source": [
    "# swapping the no \n",
    "\n",
    "x=89\n",
    "y=78\n",
    "temp = x\n",
    "x=y\n",
    "y=temp\n",
    "print(\"the swapping value of x is \",x)\n",
    "print(\"the swapping value of y is \",y)\n"
   ]
  },
  {
   "cell_type": "code",
   "execution_count": 23,
   "id": "ddf9415d",
   "metadata": {},
   "outputs": [
    {
     "name": "stdout",
     "output_type": "stream",
     "text": [
      "78\n",
      "89\n"
     ]
    }
   ],
   "source": [
    "# another method of swapping\n",
    "x=89\n",
    "y=78\n",
    "x,y=y,x\n",
    "print(x)\n",
    "print(y)"
   ]
  },
  {
   "cell_type": "code",
   "execution_count": 29,
   "id": "538da6af",
   "metadata": {},
   "outputs": [
    {
     "name": "stdout",
     "output_type": "stream",
     "text": [
      "the list is not identical\n"
     ]
    }
   ],
   "source": [
    "# to find the two lenght of lst is identical (same )\n",
    "\n",
    "l1= [6,8,0,2]\n",
    "l2= [6,8,0,1]\n",
    "l1.sort()\n",
    "l2.sort()\n",
    "if (l1 == l2):\n",
    "    print(\"list is identical\")\n",
    "else:\n",
    "    print(\"the list is not identical\")"
   ]
  },
  {
   "cell_type": "code",
   "execution_count": 4,
   "id": "17ab7d39",
   "metadata": {},
   "outputs": [
    {
     "name": "stdout",
     "output_type": "stream",
     "text": [
      "enter  any no 5\n"
     ]
    }
   ],
   "source": [
    "# check the item is presnt in list of not \n",
    "n= int(input(\"enter  any no \"))\n",
    "       \n",
    "l1=[7,8,9,0]\n",
    "for i in  l1:\n",
    "    if(l1==n):\n",
    "        print(\"the item exist in list\")\n",
    "\n"
   ]
  },
  {
   "cell_type": "code",
   "execution_count": 5,
   "id": "3a0ed3f7",
   "metadata": {},
   "outputs": [],
   "source": [
    "#  fobimnnac series \n",
    "\n",
    "def num(n):\n",
    "    a=0\n",
    "    b=1\n",
    "    sum=0\n",
    "    if n==0:\n",
    "        print(a)\n",
    "    else:\n",
    "        print(a)\n",
    "        print(b)\n",
    "        for i in range(n):\n",
    "            sum= a+b\n",
    "            a=b\n",
    "            b=sum \n",
    "            print(sum)"
   ]
  },
  {
   "cell_type": "code",
   "execution_count": 39,
   "id": "ed5c380c",
   "metadata": {},
   "outputs": [
    {
     "name": "stdout",
     "output_type": "stream",
     "text": [
      "0\n",
      "1\n",
      "1\n",
      "2\n",
      "3\n",
      "5\n",
      "8\n",
      "13\n"
     ]
    }
   ],
   "source": [
    "num(6)"
   ]
  },
  {
   "cell_type": "code",
   "execution_count": 40,
   "id": "38d25c39",
   "metadata": {},
   "outputs": [
    {
     "ename": "TypeError",
     "evalue": "list.append() takes exactly one argument (0 given)",
     "output_type": "error",
     "traceback": [
      "\u001b[1;31m---------------------------------------------------------------------------\u001b[0m",
      "\u001b[1;31mTypeError\u001b[0m                                 Traceback (most recent call last)",
      "Cell \u001b[1;32mIn[40], line 8\u001b[0m\n\u001b[0;32m      5\u001b[0m l3\u001b[38;5;241m=\u001b[39m[]\n\u001b[0;32m      7\u001b[0m \u001b[38;5;28;01mfor\u001b[39;00m i \u001b[38;5;129;01min\u001b[39;00m l1:\n\u001b[1;32m----> 8\u001b[0m     l3\u001b[38;5;241m.\u001b[39mappend()\n\u001b[0;32m      9\u001b[0m     \u001b[38;5;28;01mif\u001b[39;00m i \u001b[38;5;129;01mnot\u001b[39;00m \u001b[38;5;129;01min\u001b[39;00m l1:\n\u001b[0;32m     10\u001b[0m         l3\u001b[38;5;241m.\u001b[39mappend()\n",
      "\u001b[1;31mTypeError\u001b[0m: list.append() takes exactly one argument (0 given)"
     ]
    }
   ],
   "source": [
    "#  find the no is   in this list aur not \n",
    "\n",
    "l1=[4,5,7,9,9,6,5,5]\n",
    "\n",
    "l3=[]\n",
    "\n",
    "for i in l1:\n",
    "    l3.append()\n",
    "    if i not in l1:\n",
    "        l3.append()"
   ]
  },
  {
   "cell_type": "code",
   "execution_count": 23,
   "id": "92979f96",
   "metadata": {},
   "outputs": [],
   "source": [
    "def words(s):\n",
    "    n1 = s.split(\" \")\n",
    "#     for i in s:\n",
    "#         if len(s)%2==0:\n",
    "#             print(words)\n",
    "#             s=\"hello work too\"\n",
    "#             print(s)"
   ]
  },
  {
   "cell_type": "code",
   "execution_count": 24,
   "id": "271bcb3f",
   "metadata": {},
   "outputs": [],
   "source": [
    "words(\"kk gkhjkk\")"
   ]
  },
  {
   "cell_type": "code",
   "execution_count": 42,
   "id": "eb499d03",
   "metadata": {},
   "outputs": [],
   "source": [
    "for i in \"manish\":\n",
    "    if i == n:\n",
    "        break\n",
    "        print(i)"
   ]
  },
  {
   "cell_type": "code",
   "execution_count": 15,
   "id": "0befd84f",
   "metadata": {},
   "outputs": [
    {
     "name": "stdout",
     "output_type": "stream",
     "text": [
      "enter any number \"kjhhgk\"\n",
      "Type Error may be\n",
      "hello it is error \n"
     ]
    }
   ],
   "source": [
    "#  error handling \n",
    "\n",
    "a = input(\"enter any number \")\n",
    "try:\n",
    "    x= a/5\n",
    "\n",
    "except:\n",
    "    print(\"Type Error may be\" )\n",
    "else:\n",
    "    print(x)\n",
    "\n",
    "finally:\n",
    "    print(\"hello it is error \")"
   ]
  },
  {
   "cell_type": "code",
   "execution_count": 31,
   "id": "f2feb4fb",
   "metadata": {},
   "outputs": [
    {
     "name": "stdout",
     "output_type": "stream",
     "text": [
      "[6084, 64, 4356, 64]\n"
     ]
    }
   ],
   "source": [
    "# list compristion\n",
    "# expression for in list\n",
    "\n",
    "\n",
    "\n",
    "l1 =[78,8,66,8]\n",
    "# l2 = x for x in l1\n",
    "# print(l2)\n",
    "\n",
    "y =lambda l:[i*i for i in l]\n",
    "print(y(l1))"
   ]
  },
  {
   "cell_type": "code",
   "execution_count": 33,
   "id": "012ad7d1",
   "metadata": {},
   "outputs": [
    {
     "name": "stdout",
     "output_type": "stream",
     "text": [
      "[6084, 64, 4356, 64]\n"
     ]
    }
   ],
   "source": [
    "# lambda using\n",
    "\n",
    "l1 = [78, 8, 66, 8]\n",
    "y = lambda l: [i*i for i in l1]\n",
    "print(y(l1))"
   ]
  },
  {
   "cell_type": "code",
   "execution_count": 34,
   "id": "e28d4bbb",
   "metadata": {},
   "outputs": [
    {
     "name": "stdout",
     "output_type": "stream",
     "text": [
      "[6084, 64, 4356, 64]\n"
     ]
    }
   ],
   "source": [
    "# list comprehnsion \n",
    "\n",
    "l1 = [78, 8, 66, 8]\n",
    "l2 = [i*i for i in l1]\n",
    "print(l2)\n"
   ]
  },
  {
   "cell_type": "code",
   "execution_count": 40,
   "id": "f6168e5b",
   "metadata": {},
   "outputs": [
    {
     "name": "stdout",
     "output_type": "stream",
     "text": [
      "enter the anh number7\n",
      "enter 2 no 8\n"
     ]
    },
    {
     "ename": "NameError",
     "evalue": "name 'c' is not defined",
     "output_type": "error",
     "traceback": [
      "\u001b[1;31m---------------------------------------------------------------------------\u001b[0m",
      "\u001b[1;31mTypeError\u001b[0m                                 Traceback (most recent call last)",
      "Cell \u001b[1;32mIn[40], line 4\u001b[0m\n\u001b[0;32m      3\u001b[0m \u001b[38;5;28;01mtry\u001b[39;00m:\n\u001b[1;32m----> 4\u001b[0m     c \u001b[38;5;241m=\u001b[39m b\u001b[38;5;241m/\u001b[39ma\n\u001b[0;32m      6\u001b[0m \u001b[38;5;28;01mexcept\u001b[39;00m:\n",
      "\u001b[1;31mTypeError\u001b[0m: unsupported operand type(s) for /: 'str' and 'str'",
      "\nDuring handling of the above exception, another exception occurred:\n",
      "\u001b[1;31mNameError\u001b[0m                                 Traceback (most recent call last)",
      "Cell \u001b[1;32mIn[40], line 7\u001b[0m\n\u001b[0;32m      4\u001b[0m     c \u001b[38;5;241m=\u001b[39m b\u001b[38;5;241m/\u001b[39ma\n\u001b[0;32m      6\u001b[0m \u001b[38;5;28;01mexcept\u001b[39;00m:\n\u001b[1;32m----> 7\u001b[0m     \u001b[38;5;28mprint\u001b[39m(c)\n\u001b[0;32m      9\u001b[0m \u001b[38;5;28;01melse\u001b[39;00m:\n\u001b[0;32m     10\u001b[0m     \u001b[38;5;28mprint\u001b[39m(\u001b[38;5;124m\"\u001b[39m\u001b[38;5;124mright wrong \u001b[39m\u001b[38;5;124m\"\u001b[39m)\n",
      "\u001b[1;31mNameError\u001b[0m: name 'c' is not defined"
     ]
    }
   ],
   "source": [
    "b = input(\"enter the anh number\")\n",
    "a= input(\"enter 2 no \")\n",
    "try:\n",
    "    c = b/a\n",
    "    \n",
    "except:\n",
    "    print(c)\n",
    "    \n",
    "else:\n",
    "    print(\"right wrong or it can be right  \")\n",
    "    \n",
    "\n",
    "    \n",
    "print(c)"
   ]
  },
  {
   "cell_type": "code",
   "execution_count": null,
   "id": "7521e70d",
   "metadata": {},
   "outputs": [],
   "source": []
  }
 ],
 "metadata": {
  "kernelspec": {
   "display_name": "Python 3 (ipykernel)",
   "language": "python",
   "name": "python3"
  },
  "language_info": {
   "codemirror_mode": {
    "name": "ipython",
    "version": 3
   },
   "file_extension": ".py",
   "mimetype": "text/x-python",
   "name": "python",
   "nbconvert_exporter": "python",
   "pygments_lexer": "ipython3",
   "version": "3.11.5"
  }
 },
 "nbformat": 4,
 "nbformat_minor": 5
}
