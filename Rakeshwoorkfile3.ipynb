{
 "cells": [
  {
   "cell_type": "code",
   "execution_count": 3,
   "id": "18d037ec",
   "metadata": {},
   "outputs": [],
   "source": [
    "#1 .Create a function named ‘factor’ that can only accept 1 argument. The function should return the factorial of that number.\n",
    "def factor(a):\n",
    "    fact=1\n",
    "    for i in a:\n",
    "        fact= fact*i\n",
    "    print(fact)"
   ]
  },
  {
   "cell_type": "code",
   "execution_count": 6,
   "id": "c11af136",
   "metadata": {},
   "outputs": [
    {
     "name": "stdout",
     "output_type": "stream",
     "text": [
      "s is not present in string \n"
     ]
    }
   ],
   "source": [
    "'''2.Create a function named ‘check_string’, the function should accept a string data from the\n",
    "user and the function should check if the user input contains the letter ‘s’ in it. If it contains\n",
    "the letter ‘s’ then print- ‘The string is containing the letter ‘s’’, if not then print- ‘The string\n",
    "doesn’t contain the letter ‘s’’.'''\n",
    "\n",
    "\n",
    "str1 = \"abcdrs\"\n",
    "s1=str1.split(\" \")\n",
    "for i in s1:\n",
    "    if \"s\" in s1:\n",
    "        print(\"s is in the string\")\n",
    "    elif \"s\" not in s1:\n",
    "        print (\"s is not present in string \")   \n",
    "    else:\n",
    "        print(\" enter is defalut\")\n",
    "        \n",
    "        \n"
   ]
  },
  {
   "cell_type": "code",
   "execution_count": null,
   "id": "f13910f8",
   "metadata": {},
   "outputs": [],
   "source": [
    "'''3. Create a class named ‘student’ and inside the class, create a function named ‘fun1’- this\n",
    "method should accept the user defined input and return that value.\n",
    "a. Create another method named- message() and that method should print the user\n",
    "defined input that we have defined in ‘fun1’'''\n",
    "\n"
   ]
  },
  {
   "cell_type": "code",
   "execution_count": null,
   "id": "483b5baf",
   "metadata": {},
   "outputs": [],
   "source": [
    "'''4. Create a lambda function that should double or multiply the number (that we will be passing\n",
    "in the lambda function) by 2. Store the lambda function in a variable named ‘double_num’.''\n",
    "\n"
   ]
  },
  {
   "cell_type": "code",
   "execution_count": 7,
   "id": "0ae74747",
   "metadata": {},
   "outputs": [],
   "source": [
    "# 5. Take the user input string and check whether that string is palindrome or not.\n",
    "\n"
   ]
  },
  {
   "cell_type": "code",
   "execution_count": 9,
   "id": "11953e0d",
   "metadata": {},
   "outputs": [
    {
     "name": "stdout",
     "output_type": "stream",
     "text": [
      "the name of function Manish\n",
      "the age of the person 22\n"
     ]
    }
   ],
   "source": [
    "# 6. Create a class named ‘Super’ and inside that class define a user-defined function namedfun1.\n",
    "# a. Inside the ‘fun1’ function, pass the message “This is function 1 in the Super class.”in the print statement.\n",
    "\n",
    "class school:\n",
    "    def __init__(self,name,age):\n",
    "        self.name=name\n",
    "        self.age=age\n",
    "        \n",
    "    def student(self):\n",
    "        print(\"the name of function\",self.name)\n",
    "        print(\"the age of the person\",self.age)\n",
    "s1=school(\"Manish\",22)\n",
    "s1.student()\n",
    "        "
   ]
  },
  {
   "cell_type": "code",
   "execution_count": 12,
   "id": "304bc779",
   "metadata": {},
   "outputs": [
    {
     "ename": "TypeError",
     "evalue": "school1.student2() takes 1 positional argument but 2 were given",
     "output_type": "error",
     "traceback": [
      "\u001b[1;31m---------------------------------------------------------------------------\u001b[0m",
      "\u001b[1;31mTypeError\u001b[0m                                 Traceback (most recent call last)",
      "Cell \u001b[1;32mIn[12], line 25\u001b[0m\n\u001b[0;32m     22\u001b[0m        \u001b[38;5;28mprint\u001b[39m(\u001b[38;5;124m\"\u001b[39m\u001b[38;5;124mthe age of the person\u001b[39m\u001b[38;5;124m\"\u001b[39m,\u001b[38;5;28mself\u001b[39m\u001b[38;5;241m.\u001b[39mage)\n\u001b[0;32m     24\u001b[0m s1\u001b[38;5;241m=\u001b[39mschool1(\u001b[38;5;124m\"\u001b[39m\u001b[38;5;124mManish\u001b[39m\u001b[38;5;124m\"\u001b[39m,\u001b[38;5;241m22\u001b[39m)\n\u001b[1;32m---> 25\u001b[0m s1\u001b[38;5;241m.\u001b[39mstudent2(school1)\n",
      "\u001b[1;31mTypeError\u001b[0m: school1.student2() takes 1 positional argument but 2 were given"
     ]
    }
   ],
   "source": [
    " '''7.Create another class named ‘Modified_Super’ and inherit this class from the Super class.\n",
    "a. Inside the Modified_Super class, create a function named ‘fun1’ and pass the\n",
    "following message inside the print statement: ‘This is function 1 in the Modified\n",
    "Super class.’'''\n",
    "    \n",
    "'''. Create another user-defined function named ‘fun2’ and pass the message: ‘This is\n",
    "the 2nd function from the Modified Super class’ in the print statement.'''\n",
    "\n",
    "''' After that, now create an object for the Modified_Super class and call the fun1().'''\n",
    "\n",
    "class school1:\n",
    "    def __init__(self,name,age):\n",
    "        self.name=name\n",
    "        self.age=age\n",
    "        \n",
    "    def student1(school1):\n",
    "        print(\"the name of function\",self.name)\n",
    "        print(\"the age of the person\",self.age)\n",
    "        \n",
    "    def student2(school1):\n",
    "        print(\"the name of function\",self.name)\n",
    "        print(\"the age of the person\",self.age)\n",
    "        \n",
    "s1=school1(\"Manish\",22)\n",
    "s1.student2(school1)"
   ]
  },
  {
   "cell_type": "code",
   "execution_count": 14,
   "id": "9a3508de",
   "metadata": {},
   "outputs": [
    {
     "data": {
      "text/plain": [
       "' 8. Create 2 methods named ‘Hello’. In the 1st Hello method, pass only one argument and pass\\nthis message: ‘This function only has 1 argument’. And in the 2nd Hello method, pass\\ntwo arguments and pass this message: ‘This function has 2 arguments’.\\na. Try to call both the methods and analyze the output of both the methods.'"
      ]
     },
     "execution_count": 14,
     "metadata": {},
     "output_type": "execute_result"
    }
   ],
   "source": [
    "''' 8. Create 2 methods named ‘Hello’. In the 1st Hello method, pass only one argument and pass\n",
    "this message: ‘This function only has 1 argument’. And in the 2nd Hello method, pass\n",
    "two arguments and pass this message: ‘This function has 2 arguments’.\n",
    "a. Try to call both the methods and analyze the output of both the methods.'''"
   ]
  },
  {
   "cell_type": "code",
   "execution_count": null,
   "id": "e1ca35ca",
   "metadata": {},
   "outputs": [],
   "source": [
    "'''9create a method named ‘Sum’ that can accept multiple user inputs. Now add those user\u0002defined input values using for loop and the function should return the addition of the numbers.\n",
    "'''"
   ]
  },
  {
   "cell_type": "code",
   "execution_count": null,
   "id": "5e78681a",
   "metadata": {},
   "outputs": [],
   "source": [
    "'''10. Create a class named ‘Encapsulation’:\n",
    "a. Inside the class, first create a constructor. Inside the constructor, initialize\n",
    "originalValue variable as 10.\n",
    "b. After creating the constructor, define a function named ‘Value’ and this function\n",
    "should return the variable that we have initialized in the constructor.\n",
    "c. Now create 2nd function named setValue, and pass an argument named\n",
    "‘newValue’. The task of this function will be to replace the value'''"
   ]
  },
  {
   "cell_type": "code",
   "execution_count": null,
   "id": "9a8ecfc7",
   "metadata": {},
   "outputs": [],
   "source": []
  },
  {
   "cell_type": "code",
   "execution_count": null,
   "id": "efb33f32",
   "metadata": {},
   "outputs": [],
   "source": []
  },
  {
   "cell_type": "code",
   "execution_count": null,
   "id": "1f0bfb96",
   "metadata": {},
   "outputs": [],
   "source": []
  }
 ],
 "metadata": {
  "kernelspec": {
   "display_name": "Python 3 (ipykernel)",
   "language": "python",
   "name": "python3"
  },
  "language_info": {
   "codemirror_mode": {
    "name": "ipython",
    "version": 3
   },
   "file_extension": ".py",
   "mimetype": "text/x-python",
   "name": "python",
   "nbconvert_exporter": "python",
   "pygments_lexer": "ipython3",
   "version": "3.11.5"
  }
 },
 "nbformat": 4,
 "nbformat_minor": 5
}
