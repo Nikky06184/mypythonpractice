{
 "cells": [
  {
   "cell_type": "code",
   "execution_count": 4,
   "id": "faabc1c4",
   "metadata": {},
   "outputs": [
    {
     "name": "stdout",
     "output_type": "stream",
     "text": [
      "the cube of the no is  1\n",
      "the cube of the no is  4\n",
      "the cube of the no is  9\n",
      "the cube of the no is  16\n",
      "the cube of the no is  25\n",
      "the cube of the no is  36\n",
      "the cube of the no is  49\n",
      "the cube of the no is  64\n",
      "the cube of the no is  81\n",
      "the cube of the no is  100\n",
      "the cube of the no is  121\n",
      "the cube of the no is  144\n",
      "the cube of the no is  169\n",
      "the cube of the no is  196\n",
      "the cube of the no is  225\n",
      "the cube of the no is  256\n",
      "the cube of the no is  289\n",
      "the cube of the no is  324\n",
      "the cube of the no is  361\n",
      "the cube of the no is  400\n",
      "\n"
     ]
    }
   ],
   "source": [
    "# For a given list that contains numbers from 1 to 20. Using a for loop, create a new list\n",
    "# that contains the square of each element from the given list\n",
    "\n",
    "for i in range(1,21):\n",
    "    print(\"the cube of the no is \",i**2)\n"
   ]
  },
  {
   "cell_type": "code",
   "execution_count": 17,
   "id": "5c3a86f3",
   "metadata": {},
   "outputs": [],
   "source": [
    "# For a given dictionary that contains numbers from 1-10 as keys, and their square as\n",
    "# values, display each key-value pair using a for loop\n",
    "dic={}\n",
    "#  key and value where key is i and value = i**2 dic[i]=i**2\n",
    "for i in range(1,21):\n",
    "    dic[i]=i**2\n",
    "    "
   ]
  },
  {
   "cell_type": "code",
   "execution_count": 19,
   "id": "e661dfbe",
   "metadata": {},
   "outputs": [
    {
     "name": "stdout",
     "output_type": "stream",
     "text": [
      "{1: 1, 2: 4, 3: 9, 4: 16, 5: 25, 6: 36, 7: 49, 8: 64, 9: 81, 10: 100, 11: 121, 12: 144, 13: 169, 14: 196, 15: 225, 16: 256, 17: 289, 18: 324, 19: 361, 20: 400}\n"
     ]
    }
   ],
   "source": [
    "print(dic)"
   ]
  },
  {
   "cell_type": "code",
   "execution_count": 25,
   "id": "704c54bf",
   "metadata": {},
   "outputs": [
    {
     "name": "stdout",
     "output_type": "stream",
     "text": [
      "[2, 4, 6, 8, 10, 12, 14, 16, 18, 20]\n",
      "(2, 4, 6, 8, 10, 12, 14, 16, 18, 20)\n"
     ]
    }
   ],
   "source": [
    "# . A tuple contains even numbers from 1-20. Display all the items in a tuple using a for loop.\n",
    "\n",
    "l=[]\n",
    "for i in range(1,21):\n",
    "    if i%2==0:\n",
    "        l.append(i)\n",
    "print(l)\n",
    "print(tuple(l))\n",
    "#         print(\"t is even no \",tuple(i))\n",
    "#         print(tuple(i))\n",
    "    \n"
   ]
  },
  {
   "cell_type": "code",
   "execution_count": 30,
   "id": "04c80024",
   "metadata": {},
   "outputs": [
    {
     "name": "stdout",
     "output_type": "stream",
     "text": [
      "[1, 3, 5, 7, 9, 11, 13, 15, 17, 19]\n",
      "{1, 3, 5, 7, 9, 11, 13, 15, 17, 19}\n"
     ]
    }
   ],
   "source": [
    "# A set contains odd numbers from 1-20. Display the items in a set using a for loop.\n",
    "l1=[]\n",
    "for i in range (1,21):\n",
    "    if i%2==1:\n",
    "        l1.append(i)\n",
    "print(l1)\n",
    "print(set(l1))\n"
   ]
  },
  {
   "cell_type": "code",
   "execution_count": 39,
   "id": "ae8c99b7",
   "metadata": {},
   "outputs": [
    {
     "name": "stdout",
     "output_type": "stream",
     "text": [
      "[1, 2]\n",
      "[3, 4]\n",
      "[5, 6]\n",
      "[7, 8]\n"
     ]
    }
   ],
   "source": [
    "# For a given sequence of nested lists, display the elements using a for loop.\n",
    "a = [[1,2],[3,4],[5,6],[7,8]]\n",
    "# l2=[]\n",
    "# for i in a:\n",
    "print(a[0])\n",
    "print(a[1])\n",
    "print(a[2])\n",
    "print(a[3])\n",
    "    \n",
    "    \n",
    "\n"
   ]
  },
  {
   "cell_type": "code",
   "execution_count": 40,
   "id": "03abfe8f",
   "metadata": {},
   "outputs": [
    {
     "name": "stdout",
     "output_type": "stream",
     "text": [
      "{'one': 1}\n",
      "{'two': 2}\n",
      "{'two': 2}\n"
     ]
    }
   ],
   "source": [
    "# For a given sequence of nested dictionaries, display all the values in the dictionary.\n",
    "a = {1: {'one':1}, 2: {'two':2}, 3: {'three':3}}\n",
    "\n",
    "print(a[1])\n",
    "print(a[2])\n",
    "print(a[2])\n"
   ]
  },
  {
   "cell_type": "code",
   "execution_count": 1,
   "id": "b53cceee",
   "metadata": {},
   "outputs": [],
   "source": [
    "#  For a given list of natural numbers from 1-100, using the while loop, print only the numbers that are divisible by 2.\n",
    "\n",
    "# for n in range(1,101):\n",
    "#     if n%2==0:\n",
    "#         while n<=100:\n",
    "#             print(n)\n",
    "#             n=n+1\n",
    "        "
   ]
  },
  {
   "cell_type": "code",
   "execution_count": 4,
   "id": "d425ef85",
   "metadata": {},
   "outputs": [
    {
     "name": "stdout",
     "output_type": "stream",
     "text": [
      "2   4   6   8   10   12   14   16   18   20   22   24   26   28   30   32   34   36   38   40   42   44   46   48   50   52   54   56   58   60   62   64   66   68   70   72   74   76   78   80   82   84   86   88   90   92   94   96   98   100   "
     ]
    }
   ],
   "source": [
    "# For a given list of natural numbers from 1-100, using the while loop, print only the numbers that are divisible by 2.\n",
    "\n",
    "\n",
    "\n",
    "i = 0\n",
    "while i < 101:\n",
    "    i += 1\n",
    "    if i % 2 :\n",
    "        continue\n",
    "    print(i,end = \"   \")"
   ]
  },
  {
   "cell_type": "code",
   "execution_count": null,
   "id": "1605f222",
   "metadata": {},
   "outputs": [],
   "source": [
    "#  Print the first 5 multiples of 3 using a while loop.\n",
    "n=0\n",
    "while n<16:\n",
    "    n=n+1\n",
    "    if n % 3:\n",
    "    print(n) "
   ]
  },
  {
   "cell_type": "code",
   "execution_count": null,
   "id": "c153727c",
   "metadata": {},
   "outputs": [],
   "source": [
    "'''For a given dictionary that contains the first 10 natural numbers as keys, and their cubesas values, \n",
    "display the key value pairs using a while loop.'''\n",
    "dic={}\n",
    "for i in range (1,11):\n",
    "    dic[i]=i**3\n",
    "    prinnt(dic[i])"
   ]
  },
  {
   "cell_type": "code",
   "execution_count": null,
   "id": "f8ea7c04",
   "metadata": {},
   "outputs": [],
   "source": [
    "# write a program using a while loop demonstrating the usage of break, continue and pass \n",
    "# statements along with if else statements.\n",
    "\n"
   ]
  },
  {
   "cell_type": "code",
   "execution_count": null,
   "id": "5748cb4b",
   "metadata": {},
   "outputs": [],
   "source": [
    "# write a program using a while loop demonstrating the usage of break, continue and pass \n",
    "# statements along with if else statements.\n"
   ]
  }
 ],
 "metadata": {
  "kernelspec": {
   "display_name": "Python 3 (ipykernel)",
   "language": "python",
   "name": "python3"
  },
  "language_info": {
   "codemirror_mode": {
    "name": "ipython",
    "version": 3
   },
   "file_extension": ".py",
   "mimetype": "text/x-python",
   "name": "python",
   "nbconvert_exporter": "python",
   "pygments_lexer": "ipython3",
   "version": "3.11.5"
  }
 },
 "nbformat": 4,
 "nbformat_minor": 5
}
