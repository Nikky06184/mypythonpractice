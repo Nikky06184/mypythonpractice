{
 "cells": [
  {
   "cell_type": "code",
   "execution_count": 6,
   "id": "8a4338c7",
   "metadata": {},
   "outputs": [],
   "source": [
    "# class working:\n",
    "def work1():\n",
    "    print(\" this is my work \")\n",
    "    print(\" pracices of ffunction \")\n",
    "        \n",
    "def work2():\n",
    "    print(\" this is my work2 \")\n",
    "    print(\" pracices \")\n"
   ]
  },
  {
   "cell_type": "code",
   "execution_count": 10,
   "id": "0f34db22",
   "metadata": {},
   "outputs": [
    {
     "name": "stdout",
     "output_type": "stream",
     "text": [
      " this is my work2 \n",
      " pracices \n"
     ]
    }
   ],
   "source": [
    "work2()"
   ]
  },
  {
   "cell_type": "code",
   "execution_count": 11,
   "id": "33de80f4",
   "metadata": {},
   "outputs": [
    {
     "name": "stdout",
     "output_type": "stream",
     "text": [
      " this is my work \n",
      " pracices of ffunction \n"
     ]
    }
   ],
   "source": [
    "work1()"
   ]
  },
  {
   "cell_type": "code",
   "execution_count": 24,
   "id": "23b4acbc",
   "metadata": {},
   "outputs": [
    {
     "name": "stdout",
     "output_type": "stream",
     "text": [
      " the model of car is  Maruti\n",
      " the car name is  kia\n",
      "the color is  red\n",
      "the year of launch 455\n"
     ]
    }
   ],
   "source": [
    "# by using class \n",
    "class car:\n",
    "    def __init__(self,name,color,year):\n",
    "        self.name = name\n",
    "        self.color= color\n",
    "        self.year= year\n",
    "        \n",
    "    def show(self):\n",
    "        print(\" the car name is \",self.name)\n",
    "        print(\"the color is \",self.color)\n",
    "        \n",
    "    def model(self):\n",
    "        print(\" the model of car is \",self.name)\n",
    "        \n",
    "    def Year(self):\n",
    "        print(\"the year of launch\",self.year)\n",
    "c1=car(\"Maruti\",\"blue\",6665)\n",
    "c1.model()\n",
    "\n",
    "c1=car(\"kia\",\"red\",456)\n",
    "c1.show()\n",
    "\n",
    "c1=car(\"i10\",\"gery\",455)\n",
    "c1.Year()\n",
    "\n",
    "\n"
   ]
  },
  {
   "cell_type": "code",
   "execution_count": 2,
   "id": "c5f8bc4c",
   "metadata": {},
   "outputs": [],
   "source": [
    "l = list()"
   ]
  },
  {
   "cell_type": "code",
   "execution_count": 3,
   "id": "dcf5a92c",
   "metadata": {},
   "outputs": [
    {
     "name": "stdout",
     "output_type": "stream",
     "text": [
      " the car name is  bmw\n",
      "the color is  blue\n",
      " the model of car is  bmw\n",
      "<class '__main__.car'>\n",
      "bmw\n"
     ]
    }
   ],
   "source": [
    "s1=car(\"bmw\",\"blue\",1236)\n",
    "s1.show()\n",
    "s1.model()\n",
    "print(type (s1))\n",
    "print(s1.name)"
   ]
  },
  {
   "cell_type": "code",
   "execution_count": 4,
   "id": "0195e91f",
   "metadata": {},
   "outputs": [
    {
     "name": "stdout",
     "output_type": "stream",
     "text": [
      "the year of launch 4567\n",
      " the model of car is  times\n"
     ]
    }
   ],
   "source": [
    "s3=car(\"times\",\"red\",4567)\n",
    "s3.Year()\n",
    "s3.model()"
   ]
  },
  {
   "cell_type": "code",
   "execution_count": 5,
   "id": "0aff3caf",
   "metadata": {},
   "outputs": [
    {
     "name": "stdout",
     "output_type": "stream",
     "text": [
      " the model of car is  bmw\n"
     ]
    }
   ],
   "source": [
    "# this is one type of argumemt we are pass example(toyota\",\"yellow\",4565) there are three parameter .when ever we have to call the f\\n\n",
    "# the function of class that again and agai we we change the name od obeject\n",
    "\n",
    "s2=car(\"toyota\",\"yellow\",4565)\n",
    "s1.model()"
   ]
  },
  {
   "cell_type": "code",
   "execution_count": 6,
   "id": "22538b88",
   "metadata": {},
   "outputs": [
    {
     "name": "stdout",
     "output_type": "stream",
     "text": [
      " the model of car is  TATA\n"
     ]
    }
   ],
   "source": [
    "sirf4=car(\"TATA\",\"gery\",1976)\n",
    "sirf4.model()"
   ]
  },
  {
   "cell_type": "code",
   "execution_count": 7,
   "id": "2f514d30",
   "metadata": {},
   "outputs": [],
   "source": [
    "class Car:\n",
    "    def __init__(self, make, model, year, color):\n",
    "        self.make = make\n",
    "        self.model = model\n",
    "        self.year = year\n",
    "        self.color = color\n",
    "        self.is_running = False\n",
    "\n",
    "    def start(self):\n",
    "        if not self.is_running:\n",
    "            print(f\"The {self.color} {self.year} {self.make} {self.model} is starting.\")\n",
    "            self.is_running = True\n",
    "        else:\n",
    "            print(\"The car is already running.\")\n",
    "\n",
    "    def stop(self):\n",
    "        if self.is_running:\n",
    "            print(f\"The {self.color} {self.year} {self.make} {self.model} is stopping.\")\n",
    "            self.is_running = False\n",
    "        else:\n",
    "            print(\"The car is already stopped.\")\n",
    "\n",
    "    def honk(self):\n",
    "        print(\"Beep beep!\")\n",
    "\n",
    "\n",
    "\n"
   ]
  },
  {
   "cell_type": "code",
   "execution_count": 8,
   "id": "db515840",
   "metadata": {},
   "outputs": [
    {
     "name": "stdout",
     "output_type": "stream",
     "text": [
      "My car is a blue 2022 Toyota Camry.\n",
      "The blue 2022 Toyota Camry is starting.\n",
      "Beep beep!\n",
      "The blue 2022 Toyota Camry is stopping.\n"
     ]
    }
   ],
   "source": [
    "# Example usage:\n",
    "my_car = Car(make=\"Toyota\", model=\"Camry\", year=2022, color=\"blue\")\n",
    "\n",
    "# Accessing attributes\n",
    "print(f\"My car is a {my_car.color} {my_car.year} {my_car.make} {my_car.model}.\")\n",
    "\n",
    "# Starting the car\n",
    "my_car.start()\n",
    "\n",
    "# Honking the horn\n",
    "my_car.honk()\n",
    "\n",
    "# Stopping the car\n",
    "my_car.stop()"
   ]
  },
  {
   "cell_type": "code",
   "execution_count": 9,
   "id": "3c79fd31",
   "metadata": {},
   "outputs": [
    {
     "name": "stdout",
     "output_type": "stream",
     "text": [
      "day of movie Friday\n",
      "movie name  dil\n"
     ]
    }
   ],
   "source": [
    "# we creae class name of class is picture\n",
    "\n",
    "class Picture:\n",
    "    def __init__(self,name,releasing,day,time):\n",
    "        self.name=name\n",
    "        self.releasing=releasing\n",
    "        self.day=day\n",
    "        self.time=time\n",
    "        \n",
    "    def Pic(self):\n",
    "        print(\"movie name \",self.name)\n",
    "        print(\"date of realsing\",self.releasing)\n",
    "        print(\" time\",self.time)\n",
    "        \n",
    "    def state(self):\n",
    "        print(\"day of movie\",self.day)\n",
    "        print(\"movie name \",self.name)\n",
    "        \n",
    "    def Hero(self):\n",
    "        print(\"day \",self.day)\n",
    "        \n",
    "p1=Picture(\"dil\",4/5/2023,\"Friday\",\"10.00Pm\")\n",
    "p1.state()\n"
   ]
  },
  {
   "cell_type": "code",
   "execution_count": 10,
   "id": "e22e1c1a",
   "metadata": {},
   "outputs": [
    {
     "name": "stdout",
     "output_type": "stream",
     "text": [
      "day of movie Friday\n",
      "movie name  dil\n"
     ]
    }
   ],
   "source": [
    "p1=Picture(\"dil\",4/5/2023,\"Friday\",\"10.00Pm\")\n",
    "p1.state()\n"
   ]
  },
  {
   "cell_type": "code",
   "execution_count": 11,
   "id": "bcd4ec05",
   "metadata": {},
   "outputs": [
    {
     "name": "stdout",
     "output_type": "stream",
     "text": [
      "the name of persone maniuig\n"
     ]
    }
   ],
   "source": [
    "#  simple function\n",
    "\n",
    "def name(a):\n",
    "    print(\"the name of persone\",a)\n",
    "def RollNo(b):\n",
    "    print(\"the roll no of preson is\",b)\n",
    "def classes(c):\n",
    "    print(\"claases of person\",c)\n",
    "    \n",
    "name(\"maniuig\")"
   ]
  },
  {
   "cell_type": "code",
   "execution_count": 12,
   "id": "493a3b87",
   "metadata": {},
   "outputs": [],
   "source": [
    "def addwords(s):\n",
    "    \n",
    "    l=s.split(\" \")\n",
    "    print(l)\n",
    "    \n",
    "    for i in l:\n",
    "        if len(i)%2==1:\n",
    "            print(\"the odd words are :\" , i)"
   ]
  },
  {
   "cell_type": "code",
   "execution_count": 13,
   "id": "723e85eb",
   "metadata": {},
   "outputs": [
    {
     "name": "stdout",
     "output_type": "stream",
     "text": [
      "['this', 'is', 'bag', '', 'tag']\n",
      "the odd words are : bag\n",
      "the odd words are : tag\n"
     ]
    }
   ],
   "source": [
    "addwords(\"this is bag  tag\")"
   ]
  },
  {
   "cell_type": "code",
   "execution_count": 14,
   "id": "a0cc6659",
   "metadata": {},
   "outputs": [
    {
     "name": "stdout",
     "output_type": "stream",
     "text": [
      "['This is bag']\n"
     ]
    }
   ],
   "source": [
    "# \"This is bag\" :\n",
    "l = [\"This is bag\"]\n",
    "print(l)"
   ]
  },
  {
   "cell_type": "code",
   "execution_count": 21,
   "id": "d7e81be9",
   "metadata": {},
   "outputs": [
    {
     "name": "stdout",
     "output_type": "stream",
     "text": [
      "the color of animal is: Purple\n",
      "the size of animal is: 10'4\n",
      "the name of zoo is: Peigeon\n",
      "the state of zoo is : Ghir\n"
     ]
    }
   ],
   "source": [
    "class Animal:\n",
    "    def __init__(self,name ,state,color,size):\n",
    "        self.name=name\n",
    "        self.state=state\n",
    "        self.color=color\n",
    "        self.size=size\n",
    "    def zoo1(self):\n",
    "        print('the name of zoo is:',self.name)\n",
    "        print('the state of zoo is :',self.state)\n",
    "    def zoo2(self):\n",
    "        print('the color of animal is:',self.color)\n",
    "        print('the size of animal is:',self.size)\n",
    "        \n",
    "a1=Animal(\"Pecacock\",\"junagadh\",\"Purple\",\"10'4\")\n",
    "a1.zoo2()\n",
    "\n",
    "a1=Animal(\"Peigeon\",\"Ghir\",\"green\",9)\n",
    "a1.zoo1()\n",
    "        "
   ]
  },
  {
   "cell_type": "code",
   "execution_count": null,
   "id": "b7ea57b2",
   "metadata": {},
   "outputs": [],
   "source": [
    "a1"
   ]
  }
 ],
 "metadata": {
  "kernelspec": {
   "display_name": "Python 3 (ipykernel)",
   "language": "python",
   "name": "python3"
  },
  "language_info": {
   "codemirror_mode": {
    "name": "ipython",
    "version": 3
   },
   "file_extension": ".py",
   "mimetype": "text/x-python",
   "name": "python",
   "nbconvert_exporter": "python",
   "pygments_lexer": "ipython3",
   "version": "3.11.5"
  }
 },
 "nbformat": 4,
 "nbformat_minor": 5
}
