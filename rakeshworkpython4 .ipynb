{
 "cells": [
  {
   "cell_type": "code",
   "execution_count": 1,
   "id": "f277c357",
   "metadata": {
    "scrolled": true
   },
   "outputs": [
    {
     "data": {
      "text/plain": [
       "'. Create a class named parent_Class and inside the class, initialize a global variable num as\\n10.\\na. Create another class named child_Class and this class should be inherited from the\\nparent class.\\nb. Now create an object for the child_Class and with the help of child_Class object,\\ndisplay the value of ‘num’.\\n2. Create three classes named A, B, and C'"
      ]
     },
     "execution_count": 1,
     "metadata": {},
     "output_type": "execute_result"
    }
   ],
   "source": [
    "'''. Create a class named parent_Class and inside the class, initialize a global variable num as\n",
    "10.\n",
    "a. Create another class named child_Class and this class should be inherited from the\n",
    "parent class.\n",
    "b. Now create an object for the child_Class and with the help of child_Class object,\n",
    "display the value of ‘num’.'''\n"
   ]
  },
  {
   "cell_type": "code",
   "execution_count": null,
   "id": "dd158541",
   "metadata": {},
   "outputs": [],
   "source": [
    "'''2. Create three classes named A, B, and C.\n",
    "a. Inside the A class, create a constructor. Inside the constructor, initialize 2 global\n",
    "variables- name and age.\n",
    "b. After initializing the global variables inside the constructor, now create a function\n",
    "named\n",
    "‘details’ and that function should return the ‘name’ variable.\n",
    "c. Inside the B class, create a constructor. Inside the constructor, initialize 2 global\n",
    "variables\u0002name and id.\n",
    "d. After initializing the global variables inside the constructor, now create a function\n",
    "named ‘details’ and that function should return the ‘name’ variable.\n",
    "e. The C class should inherit from class A, and B. Inside the class C, create a\n",
    "constructor, and inside the constructor, call the constructor of class A.\n",
    "f. Now, create a method inside the class C, as get_details, and this function should\n",
    "return the value of a name.\n",
    "g. Atlast, create a n object of class C, and with the help of the object, call the\n",
    "get_details().'''"
   ]
  },
  {
   "cell_type": "code",
   "execution_count": 3,
   "id": "c210097e",
   "metadata": {},
   "outputs": [
    {
     "name": "stdout",
     "output_type": "stream",
     "text": [
      " the name of employee is : Manish\n",
      "the salary of employee is : 700000\n"
     ]
    }
   ],
   "source": [
    " '''3Create a class named Employee, with a constructor ‘__init__’ method that accepts name and\n",
    "salary as parameters and set properties named name and salary'''\n",
    "    \n",
    "class Employee:\n",
    "    def __init__(self, name, salary):\n",
    "        self.name=name\n",
    "        self.salary=salary\n",
    "    def emp1(self):\n",
    "        print(\" the name of employee is :\",self.name)\n",
    "        print(\"the salary of employee is :\",self.salary)\n",
    "              \n",
    "e1=Employee(\"Manish\",700000)\n",
    "e1.emp1()"
   ]
  },
  {
   "cell_type": "code",
   "execution_count": 9,
   "id": "14bf3a37",
   "metadata": {},
   "outputs": [
    {
     "name": "stdout",
     "output_type": "stream",
     "text": [
      " the name of employee is : Manish\n",
      "the salary of employee is : 700000\n"
     ]
    }
   ],
   "source": [
    "'''4. Define __str__ method in Employee class so that when someone tries to print the object the\n",
    "string Name: employee_name, Salary: employee_salary is printed with the actual employee\n",
    "name and salary.'''\n",
    "\n",
    "class Employee:\n",
    "    def __init__(self, employee_name, employee_salary):\n",
    "        self.employee_name=employee_name\n",
    "        self.employee_salary=employee_salary\n",
    "    def emp1(self):\n",
    "        print(\" the name of employee is :\",self.employee_name)\n",
    "        print(\"the salary of employee is :\",self.employee_salary)\n",
    "              \n",
    "e1=Employee(\"Manish\",700000)\n",
    "e1.emp1()\n",
    "\n"
   ]
  },
  {
   "cell_type": "code",
   "execution_count": null,
   "id": "55a9d5a8",
   "metadata": {},
   "outputs": [],
   "source": [
    "'''. Create a program using classes and objects to implement the following:\n",
    "1. A singly linked list, and various CRUD operations on the same.\n",
    "2. A binary tree, and various CRUD operations on the same.\n",
    "3. A graph data structure, and various CRUD operations on the same.\n",
    "4. Implementation of Circular and Doubly linked lists.'''"
   ]
  },
  {
   "cell_type": "code",
   "execution_count": null,
   "id": "f710310a",
   "metadata": {},
   "outputs": [],
   "source": []
  }
 ],
 "metadata": {
  "kernelspec": {
   "display_name": "Python 3 (ipykernel)",
   "language": "python",
   "name": "python3"
  },
  "language_info": {
   "codemirror_mode": {
    "name": "ipython",
    "version": 3
   },
   "file_extension": ".py",
   "mimetype": "text/x-python",
   "name": "python",
   "nbconvert_exporter": "python",
   "pygments_lexer": "ipython3",
   "version": "3.11.5"
  }
 },
 "nbformat": 4,
 "nbformat_minor": 5
}
